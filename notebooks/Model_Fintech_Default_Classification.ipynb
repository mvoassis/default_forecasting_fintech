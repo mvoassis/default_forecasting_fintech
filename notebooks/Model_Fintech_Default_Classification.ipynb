{
  "nbformat": 4,
  "nbformat_minor": 0,
  "metadata": {
    "colab": {
      "provenance": [],
      "collapsed_sections": [
        "KdmL3Knj8SCn",
        "3WlrS0Gv-FuO",
        "V7Xw5Hgs92li",
        "RcdpiknO4zkT",
        "Hc6tN2wKgg7o",
        "f8Q8gERWtP0Z",
        "c1J-Ns4WtSrH",
        "IvqAP9cZY81B",
        "1YHRUnEtxNHh",
        "g5MtqPW7m7-b",
        "b2jvAj37GfaQ",
        "MGZyfZmoLB68",
        "qFTgB-gSAmHY",
        "L3Rnlsy5vVSA"
      ],
      "authorship_tag": "ABX9TyOFgX2pnFUE9RQZulDEPE2O",
      "include_colab_link": true
    },
    "kernelspec": {
      "name": "python3",
      "display_name": "Python 3"
    },
    "language_info": {
      "name": "python"
    }
  },
  "cells": [
    {
      "cell_type": "markdown",
      "metadata": {
        "id": "view-in-github",
        "colab_type": "text"
      },
      "source": [
        "<a href=\"https://colab.research.google.com/github/mvoassis/default_forecasting_fintech/blob/main/notebooks/Model_Fintech_Default_Classification.ipynb\" target=\"_parent\"><img src=\"https://colab.research.google.com/assets/colab-badge.svg\" alt=\"Open In Colab\"/></a>"
      ]
    },
    {
      "cell_type": "markdown",
      "source": [
        "# Classification Model - Fintech Default Classification\n",
        "Marcos Oliveira (mvoassis@gmail.com)\n",
        "\n",
        "Data (features):\n",
        "\n",
        "* clean_data_full.csv (all data features)\n",
        "* clean_data_13f.csv (13 most relevant features)"
      ],
      "metadata": {
        "id": "1zTRGtSU4z6W"
      }
    },
    {
      "cell_type": "markdown",
      "source": [
        "## Loading libs and Importing data"
      ],
      "metadata": {
        "id": "KdmL3Knj8SCn"
      }
    },
    {
      "cell_type": "code",
      "source": [
        "import pandas as pd\n",
        "import numpy as np\n",
        "import matplotlib.pyplot as plt\n",
        "import seaborn as sns"
      ],
      "metadata": {
        "id": "hXLChVZM8ZTB"
      },
      "execution_count": 1,
      "outputs": []
    },
    {
      "cell_type": "code",
      "execution_count": 2,
      "metadata": {
        "id": "HetONfw_4i23"
      },
      "outputs": [],
      "source": [
        "# Better outcomes achieved with Full feature data\n",
        "\n",
        "data = pd.read_csv('https://github.com/mvoassis/default_forecasting_fintech/blob/main/clean_data_full.csv?raw=true') # clean_data_full.csv <- Better outcomes\n",
        "\n",
        "# data = pd.read_csv('https://github.com/mvoassis/default_forecasting_fintech/blob/main/clean_data_13f.csv?raw=true') # clean_data_13f.csv"
      ]
    },
    {
      "cell_type": "code",
      "source": [
        "data.head()"
      ],
      "metadata": {
        "colab": {
          "base_uri": "https://localhost:8080/",
          "height": 300
        },
        "id": "x2lLkCHg9xCR",
        "outputId": "584daf19-a7cd-49c5-bb7a-4de9d8658f00"
      },
      "execution_count": 3,
      "outputs": [
        {
          "output_type": "execute_result",
          "data": {
            "text/plain": [
              "   person_age  person_income  person_emp_length  loan_amnt  loan_int_rate  \\\n",
              "0        37.0        51000.0                3.0    12800.0          12.84   \n",
              "1        33.0        58000.0                5.0     6400.0           7.51   \n",
              "2        24.0         9600.0                3.0     1300.0          12.73   \n",
              "3        33.0        14400.0                0.0     2000.0          14.79   \n",
              "4        24.0        78000.0                0.0    19500.0          15.31   \n",
              "\n",
              "   loan_status  loan_percent_income  cb_person_default_on_file  Other  Own  \\\n",
              "0          0.0                 0.25                          0    0.0  0.0   \n",
              "1          0.0                 0.11                          0    0.0  0.0   \n",
              "2          1.0                 0.14                          0    0.0  0.0   \n",
              "3          0.0                 0.14                          0    0.0  1.0   \n",
              "4          1.0                 0.25                          0    0.0  0.0   \n",
              "\n",
              "   ...  Homeimprovement  Medical  Personal  Venture    B    C    D    E    F  \\\n",
              "0  ...              0.0      0.0       0.0      0.0  0.0  1.0  0.0  0.0  0.0   \n",
              "1  ...              0.0      1.0       0.0      0.0  0.0  0.0  0.0  0.0  0.0   \n",
              "2  ...              0.0      0.0       0.0      0.0  0.0  1.0  0.0  0.0  0.0   \n",
              "3  ...              0.0      0.0       0.0      1.0  0.0  1.0  0.0  0.0  0.0   \n",
              "4  ...              0.0      0.0       0.0      0.0  0.0  0.0  1.0  0.0  0.0   \n",
              "\n",
              "     G  \n",
              "0  0.0  \n",
              "1  0.0  \n",
              "2  0.0  \n",
              "3  0.0  \n",
              "4  0.0  \n",
              "\n",
              "[5 rows x 23 columns]"
            ],
            "text/html": [
              "\n",
              "  <div id=\"df-8a998070-5e96-4420-b533-d6c47ba87862\">\n",
              "    <div class=\"colab-df-container\">\n",
              "      <div>\n",
              "<style scoped>\n",
              "    .dataframe tbody tr th:only-of-type {\n",
              "        vertical-align: middle;\n",
              "    }\n",
              "\n",
              "    .dataframe tbody tr th {\n",
              "        vertical-align: top;\n",
              "    }\n",
              "\n",
              "    .dataframe thead th {\n",
              "        text-align: right;\n",
              "    }\n",
              "</style>\n",
              "<table border=\"1\" class=\"dataframe\">\n",
              "  <thead>\n",
              "    <tr style=\"text-align: right;\">\n",
              "      <th></th>\n",
              "      <th>person_age</th>\n",
              "      <th>person_income</th>\n",
              "      <th>person_emp_length</th>\n",
              "      <th>loan_amnt</th>\n",
              "      <th>loan_int_rate</th>\n",
              "      <th>loan_status</th>\n",
              "      <th>loan_percent_income</th>\n",
              "      <th>cb_person_default_on_file</th>\n",
              "      <th>Other</th>\n",
              "      <th>Own</th>\n",
              "      <th>...</th>\n",
              "      <th>Homeimprovement</th>\n",
              "      <th>Medical</th>\n",
              "      <th>Personal</th>\n",
              "      <th>Venture</th>\n",
              "      <th>B</th>\n",
              "      <th>C</th>\n",
              "      <th>D</th>\n",
              "      <th>E</th>\n",
              "      <th>F</th>\n",
              "      <th>G</th>\n",
              "    </tr>\n",
              "  </thead>\n",
              "  <tbody>\n",
              "    <tr>\n",
              "      <th>0</th>\n",
              "      <td>37.0</td>\n",
              "      <td>51000.0</td>\n",
              "      <td>3.0</td>\n",
              "      <td>12800.0</td>\n",
              "      <td>12.84</td>\n",
              "      <td>0.0</td>\n",
              "      <td>0.25</td>\n",
              "      <td>0</td>\n",
              "      <td>0.0</td>\n",
              "      <td>0.0</td>\n",
              "      <td>...</td>\n",
              "      <td>0.0</td>\n",
              "      <td>0.0</td>\n",
              "      <td>0.0</td>\n",
              "      <td>0.0</td>\n",
              "      <td>0.0</td>\n",
              "      <td>1.0</td>\n",
              "      <td>0.0</td>\n",
              "      <td>0.0</td>\n",
              "      <td>0.0</td>\n",
              "      <td>0.0</td>\n",
              "    </tr>\n",
              "    <tr>\n",
              "      <th>1</th>\n",
              "      <td>33.0</td>\n",
              "      <td>58000.0</td>\n",
              "      <td>5.0</td>\n",
              "      <td>6400.0</td>\n",
              "      <td>7.51</td>\n",
              "      <td>0.0</td>\n",
              "      <td>0.11</td>\n",
              "      <td>0</td>\n",
              "      <td>0.0</td>\n",
              "      <td>0.0</td>\n",
              "      <td>...</td>\n",
              "      <td>0.0</td>\n",
              "      <td>1.0</td>\n",
              "      <td>0.0</td>\n",
              "      <td>0.0</td>\n",
              "      <td>0.0</td>\n",
              "      <td>0.0</td>\n",
              "      <td>0.0</td>\n",
              "      <td>0.0</td>\n",
              "      <td>0.0</td>\n",
              "      <td>0.0</td>\n",
              "    </tr>\n",
              "    <tr>\n",
              "      <th>2</th>\n",
              "      <td>24.0</td>\n",
              "      <td>9600.0</td>\n",
              "      <td>3.0</td>\n",
              "      <td>1300.0</td>\n",
              "      <td>12.73</td>\n",
              "      <td>1.0</td>\n",
              "      <td>0.14</td>\n",
              "      <td>0</td>\n",
              "      <td>0.0</td>\n",
              "      <td>0.0</td>\n",
              "      <td>...</td>\n",
              "      <td>0.0</td>\n",
              "      <td>0.0</td>\n",
              "      <td>0.0</td>\n",
              "      <td>0.0</td>\n",
              "      <td>0.0</td>\n",
              "      <td>1.0</td>\n",
              "      <td>0.0</td>\n",
              "      <td>0.0</td>\n",
              "      <td>0.0</td>\n",
              "      <td>0.0</td>\n",
              "    </tr>\n",
              "    <tr>\n",
              "      <th>3</th>\n",
              "      <td>33.0</td>\n",
              "      <td>14400.0</td>\n",
              "      <td>0.0</td>\n",
              "      <td>2000.0</td>\n",
              "      <td>14.79</td>\n",
              "      <td>0.0</td>\n",
              "      <td>0.14</td>\n",
              "      <td>0</td>\n",
              "      <td>0.0</td>\n",
              "      <td>1.0</td>\n",
              "      <td>...</td>\n",
              "      <td>0.0</td>\n",
              "      <td>0.0</td>\n",
              "      <td>0.0</td>\n",
              "      <td>1.0</td>\n",
              "      <td>0.0</td>\n",
              "      <td>1.0</td>\n",
              "      <td>0.0</td>\n",
              "      <td>0.0</td>\n",
              "      <td>0.0</td>\n",
              "      <td>0.0</td>\n",
              "    </tr>\n",
              "    <tr>\n",
              "      <th>4</th>\n",
              "      <td>24.0</td>\n",
              "      <td>78000.0</td>\n",
              "      <td>0.0</td>\n",
              "      <td>19500.0</td>\n",
              "      <td>15.31</td>\n",
              "      <td>1.0</td>\n",
              "      <td>0.25</td>\n",
              "      <td>0</td>\n",
              "      <td>0.0</td>\n",
              "      <td>0.0</td>\n",
              "      <td>...</td>\n",
              "      <td>0.0</td>\n",
              "      <td>0.0</td>\n",
              "      <td>0.0</td>\n",
              "      <td>0.0</td>\n",
              "      <td>0.0</td>\n",
              "      <td>0.0</td>\n",
              "      <td>1.0</td>\n",
              "      <td>0.0</td>\n",
              "      <td>0.0</td>\n",
              "      <td>0.0</td>\n",
              "    </tr>\n",
              "  </tbody>\n",
              "</table>\n",
              "<p>5 rows × 23 columns</p>\n",
              "</div>\n",
              "      <button class=\"colab-df-convert\" onclick=\"convertToInteractive('df-8a998070-5e96-4420-b533-d6c47ba87862')\"\n",
              "              title=\"Convert this dataframe to an interactive table.\"\n",
              "              style=\"display:none;\">\n",
              "        \n",
              "  <svg xmlns=\"http://www.w3.org/2000/svg\" height=\"24px\"viewBox=\"0 0 24 24\"\n",
              "       width=\"24px\">\n",
              "    <path d=\"M0 0h24v24H0V0z\" fill=\"none\"/>\n",
              "    <path d=\"M18.56 5.44l.94 2.06.94-2.06 2.06-.94-2.06-.94-.94-2.06-.94 2.06-2.06.94zm-11 1L8.5 8.5l.94-2.06 2.06-.94-2.06-.94L8.5 2.5l-.94 2.06-2.06.94zm10 10l.94 2.06.94-2.06 2.06-.94-2.06-.94-.94-2.06-.94 2.06-2.06.94z\"/><path d=\"M17.41 7.96l-1.37-1.37c-.4-.4-.92-.59-1.43-.59-.52 0-1.04.2-1.43.59L10.3 9.45l-7.72 7.72c-.78.78-.78 2.05 0 2.83L4 21.41c.39.39.9.59 1.41.59.51 0 1.02-.2 1.41-.59l7.78-7.78 2.81-2.81c.8-.78.8-2.07 0-2.86zM5.41 20L4 18.59l7.72-7.72 1.47 1.35L5.41 20z\"/>\n",
              "  </svg>\n",
              "      </button>\n",
              "      \n",
              "  <style>\n",
              "    .colab-df-container {\n",
              "      display:flex;\n",
              "      flex-wrap:wrap;\n",
              "      gap: 12px;\n",
              "    }\n",
              "\n",
              "    .colab-df-convert {\n",
              "      background-color: #E8F0FE;\n",
              "      border: none;\n",
              "      border-radius: 50%;\n",
              "      cursor: pointer;\n",
              "      display: none;\n",
              "      fill: #1967D2;\n",
              "      height: 32px;\n",
              "      padding: 0 0 0 0;\n",
              "      width: 32px;\n",
              "    }\n",
              "\n",
              "    .colab-df-convert:hover {\n",
              "      background-color: #E2EBFA;\n",
              "      box-shadow: 0px 1px 2px rgba(60, 64, 67, 0.3), 0px 1px 3px 1px rgba(60, 64, 67, 0.15);\n",
              "      fill: #174EA6;\n",
              "    }\n",
              "\n",
              "    [theme=dark] .colab-df-convert {\n",
              "      background-color: #3B4455;\n",
              "      fill: #D2E3FC;\n",
              "    }\n",
              "\n",
              "    [theme=dark] .colab-df-convert:hover {\n",
              "      background-color: #434B5C;\n",
              "      box-shadow: 0px 1px 3px 1px rgba(0, 0, 0, 0.15);\n",
              "      filter: drop-shadow(0px 1px 2px rgba(0, 0, 0, 0.3));\n",
              "      fill: #FFFFFF;\n",
              "    }\n",
              "  </style>\n",
              "\n",
              "      <script>\n",
              "        const buttonEl =\n",
              "          document.querySelector('#df-8a998070-5e96-4420-b533-d6c47ba87862 button.colab-df-convert');\n",
              "        buttonEl.style.display =\n",
              "          google.colab.kernel.accessAllowed ? 'block' : 'none';\n",
              "\n",
              "        async function convertToInteractive(key) {\n",
              "          const element = document.querySelector('#df-8a998070-5e96-4420-b533-d6c47ba87862');\n",
              "          const dataTable =\n",
              "            await google.colab.kernel.invokeFunction('convertToInteractive',\n",
              "                                                     [key], {});\n",
              "          if (!dataTable) return;\n",
              "\n",
              "          const docLinkHtml = 'Like what you see? Visit the ' +\n",
              "            '<a target=\"_blank\" href=https://colab.research.google.com/notebooks/data_table.ipynb>data table notebook</a>'\n",
              "            + ' to learn more about interactive tables.';\n",
              "          element.innerHTML = '';\n",
              "          dataTable['output_type'] = 'display_data';\n",
              "          await google.colab.output.renderOutput(dataTable, element);\n",
              "          const docLink = document.createElement('div');\n",
              "          docLink.innerHTML = docLinkHtml;\n",
              "          element.appendChild(docLink);\n",
              "        }\n",
              "      </script>\n",
              "    </div>\n",
              "  </div>\n",
              "  "
            ]
          },
          "metadata": {},
          "execution_count": 3
        }
      ]
    },
    {
      "cell_type": "code",
      "source": [
        "X = data.drop('loan_status',axis=1)\n",
        "y = data['loan_status']"
      ],
      "metadata": {
        "id": "pL_jnrfQ_OIP"
      },
      "execution_count": 4,
      "outputs": []
    },
    {
      "cell_type": "markdown",
      "source": [
        "## Separating a validation dataset\n",
        "\n",
        "Before starting the classification model, first the data should be balanced, normalized, and divided into:\n",
        "\n",
        "* Training set\n",
        "* Testing set\n",
        "* Validation set\n",
        "\n",
        "The validation set should be saved before the balancing process, which should be applied only on the training data. \n",
        "\n",
        "Saving X_val and y_val for later..."
      ],
      "metadata": {
        "id": "3WlrS0Gv-FuO"
      }
    },
    {
      "cell_type": "code",
      "source": [
        "from sklearn.model_selection import train_test_split\n",
        "\n",
        "X_train_test, X_val, y_train_test, y_val = train_test_split(X,y, test_size=0.2, stratify=y)\n",
        "\n",
        "print('Train and test: ',X_train_test.shape[0],'rows (80%)')\n",
        "print('Validation: ',X_val.shape[0],'rows (20%)')"
      ],
      "metadata": {
        "colab": {
          "base_uri": "https://localhost:8080/"
        },
        "id": "KtXfvcAj_DF6",
        "outputId": "1401231c-e90a-4556-fd6d-d8f4568a187a"
      },
      "execution_count": 5,
      "outputs": [
        {
          "output_type": "stream",
          "name": "stdout",
          "text": [
            "Train and test:  22916 rows (80%)\n",
            "Validation:  5730 rows (20%)\n"
          ]
        }
      ]
    },
    {
      "cell_type": "markdown",
      "source": [
        "## Balancing training data\n",
        "\n",
        "Three approaches could be tested for data balancing:\n",
        "\n",
        "1. Upsampling - Resampling minority class, replicating rows to the size of the majoroty class. (Could lead to overfit)\n",
        "\n",
        "2. Downsampling - Resampling majoroty class, replicating rows to the size of the minority class. (Could lead to underfit)\n",
        "\n",
        "3. Hybrid approach - A misxture of approaches 1 and 2. \n",
        "\n",
        "---\n",
        "\n"
      ],
      "metadata": {
        "id": "V7Xw5Hgs92li"
      }
    },
    {
      "cell_type": "code",
      "source": [
        "y_train_test.value_counts(normalize=True)"
      ],
      "metadata": {
        "colab": {
          "base_uri": "https://localhost:8080/"
        },
        "id": "EC5y3udtOv0v",
        "outputId": "49ef0949-30bc-4e6a-fc59-0731dae8c459"
      },
      "execution_count": 6,
      "outputs": [
        {
          "output_type": "execute_result",
          "data": {
            "text/plain": [
              "0.0    0.783383\n",
              "1.0    0.216617\n",
              "Name: loan_status, dtype: float64"
            ]
          },
          "metadata": {},
          "execution_count": 6
        }
      ]
    },
    {
      "cell_type": "code",
      "source": [
        "y_train_test.value_counts()"
      ],
      "metadata": {
        "colab": {
          "base_uri": "https://localhost:8080/"
        },
        "id": "ZSohlWliPExI",
        "outputId": "97add56e-f650-4718-a14f-34066a2feb7c"
      },
      "execution_count": 7,
      "outputs": [
        {
          "output_type": "execute_result",
          "data": {
            "text/plain": [
              "0.0    17952\n",
              "1.0     4964\n",
              "Name: loan_status, dtype: int64"
            ]
          },
          "metadata": {},
          "execution_count": 7
        }
      ]
    },
    {
      "cell_type": "markdown",
      "source": [
        "---\n",
        "\n",
        "> Approach 1: Upsampling"
      ],
      "metadata": {
        "id": "VJ5BBsy7QHHf"
      }
    },
    {
      "cell_type": "code",
      "source": [
        "from sklearn.utils import resample\n",
        "\n",
        "data_train_test = X_train_test\n",
        "data_train_test['loan_status'] = y_train_test\n",
        "\n",
        "is_normal = data_train_test['loan_status']==0\n",
        "normal = data_train_test[is_normal]\n",
        "default = data_train_test[~is_normal]\n",
        "\n",
        "sizeUpSample = len(normal) \n",
        "\n",
        "# upsampling majority\n",
        "\n",
        "data_reduced = resample(default,\n",
        "                        replace = True,             # sample with replacement\n",
        "                        n_samples = sizeUpSample, # match majority n\n",
        "                        random_state = 42)          # reproducible results\n",
        "\n",
        "data_train_test_up = pd.concat([normal, data_reduced])\n",
        "data_train_test_up['loan_status'].value_counts()"
      ],
      "metadata": {
        "colab": {
          "base_uri": "https://localhost:8080/"
        },
        "id": "QU4DNbbNQJC1",
        "outputId": "18bd10e4-33e6-443b-9b0b-d8cc896bad7f"
      },
      "execution_count": 8,
      "outputs": [
        {
          "output_type": "execute_result",
          "data": {
            "text/plain": [
              "0.0    17952\n",
              "1.0    17952\n",
              "Name: loan_status, dtype: int64"
            ]
          },
          "metadata": {},
          "execution_count": 8
        }
      ]
    },
    {
      "cell_type": "markdown",
      "source": [
        "---\n",
        "\n",
        "> Approach 2: Downsampling"
      ],
      "metadata": {
        "id": "DSP71TFebfY5"
      }
    },
    {
      "cell_type": "code",
      "source": [
        "from sklearn.utils import resample\n",
        "\n",
        "data_train_test = X_train_test\n",
        "data_train_test['loan_status'] = y_train_test\n",
        "\n",
        "is_normal = data_train_test['loan_status']==0\n",
        "normal = data_train_test[is_normal]\n",
        "default = data_train_test[~is_normal]\n",
        "\n",
        "sizeDownSample = len(default) \n",
        "\n",
        "# downsampling minority\n",
        "\n",
        "data_reduced = resample(normal,\n",
        "                        replace = False,            # sample with replacement\n",
        "                        n_samples = sizeDownSample, # match minority n\n",
        "                        random_state = 42)          # reproducible results\n",
        "\n",
        "data_train_test_down = pd.concat([data_reduced, default])\n",
        "data_train_test_down['loan_status'].value_counts()"
      ],
      "metadata": {
        "colab": {
          "base_uri": "https://localhost:8080/"
        },
        "id": "_HTz7rjJbiMg",
        "outputId": "16330d79-7f79-448d-875e-af1158c3226a"
      },
      "execution_count": 9,
      "outputs": [
        {
          "output_type": "execute_result",
          "data": {
            "text/plain": [
              "0.0    4964\n",
              "1.0    4964\n",
              "Name: loan_status, dtype: int64"
            ]
          },
          "metadata": {},
          "execution_count": 9
        }
      ]
    },
    {
      "cell_type": "markdown",
      "source": [
        "---\n",
        "\n",
        "> Approach 3: Hybrid\n",
        "\n",
        "* 50% downsample\n",
        "* Than upsample to equilize"
      ],
      "metadata": {
        "id": "-EEhqwuNcnSc"
      }
    },
    {
      "cell_type": "code",
      "source": [
        "from sklearn.utils import resample\n",
        "\n",
        "data_train_test = X_train_test\n",
        "data_train_test['loan_status'] = y_train_test\n",
        "\n",
        "is_normal = data_train_test['loan_status']==0\n",
        "normal = data_train_test[is_normal]\n",
        "default = data_train_test[~is_normal]\n",
        "\n",
        "sizeDownSample = len(default) \n",
        "\n",
        "# downsampling minority\n",
        "\n",
        "normal_reduced = resample(normal,\n",
        "                        replace = False,            # sample with replacement\n",
        "                        n_samples = int(len(normal)/2), # match minority n\n",
        "                        random_state = 42)          # reproducible results\n",
        "\n",
        "default_increased = resample(default,\n",
        "                        replace = True,                   # sample with replacement\n",
        "                        n_samples = len(normal_reduced),  # match minority n\n",
        "                        random_state = 42)                # reproducible results\n",
        "\n",
        "data_train_test_hyb = pd.concat([normal_reduced, default_increased])\n",
        "data_train_test_hyb['loan_status'].value_counts()"
      ],
      "metadata": {
        "colab": {
          "base_uri": "https://localhost:8080/"
        },
        "id": "K37CbtMQcyTU",
        "outputId": "abd3688c-6840-4d51-f212-9edd71d9ab6f"
      },
      "execution_count": 10,
      "outputs": [
        {
          "output_type": "execute_result",
          "data": {
            "text/plain": [
              "0.0    8976\n",
              "1.0    8976\n",
              "Name: loan_status, dtype: int64"
            ]
          },
          "metadata": {},
          "execution_count": 10
        }
      ]
    },
    {
      "cell_type": "markdown",
      "source": [
        "---\n",
        "\n",
        "**Balanced output variables:**\n",
        "\n",
        "* data_train_test_up - Approach 1\n",
        "* data_train_test_down - Approach 2\n",
        "* data_train_test_hyb - Approach 3"
      ],
      "metadata": {
        "id": "O32xTgsJdoKS"
      }
    },
    {
      "cell_type": "markdown",
      "source": [
        "## Normalizing data\n",
        "\n",
        "To improve the performance of ML methods, lets normalize data using standardscaler."
      ],
      "metadata": {
        "id": "RcdpiknO4zkT"
      }
    },
    {
      "cell_type": "code",
      "source": [
        "# Upsampling presented better outcomes\n",
        "\n",
        "X_train_test = data_train_test_up.drop('loan_status',axis=1)      # upsampling\n",
        "y_train_test = data_train_test_up['loan_status']\n",
        "\n",
        "# X_train_test = data_train_test_down.drop('loan_status',axis=1)  # downsampling\n",
        "# y_train_test = data_train_test_down['loan_status']\n",
        "\n",
        "# X_train_test = data_train_test_hyb.drop('loan_status',axis=1)   # hybrid\n",
        "# y_train_test = data_train_test_hyb['loan_status']\n"
      ],
      "metadata": {
        "id": "Bi2gM4fkd6yJ"
      },
      "execution_count": 11,
      "outputs": []
    },
    {
      "cell_type": "code",
      "source": [
        "from sklearn.preprocessing import StandardScaler\n",
        "\n",
        "scaler = StandardScaler().fit(X_train_test)\n",
        "X_train_test_norm = scaler.transform(X_train_test)\n",
        "X_val = scaler.transform(X_val)\n"
      ],
      "metadata": {
        "id": "7zrJ6Ea-406F"
      },
      "execution_count": 12,
      "outputs": []
    },
    {
      "cell_type": "markdown",
      "source": [
        "## Train / Test Split"
      ],
      "metadata": {
        "id": "Hc6tN2wKgg7o"
      }
    },
    {
      "cell_type": "code",
      "source": [
        "X_train, X_test, y_train, y_test = train_test_split(X_train_test_norm,y_train_test, test_size=0.3, stratify=y_train_test, shuffle=True)\n",
        "\n",
        "print('Train: ',X_train.shape[0],'rows (70%)')\n",
        "print('Test: ',X_test.shape[0],'rows (30%)')\n"
      ],
      "metadata": {
        "colab": {
          "base_uri": "https://localhost:8080/"
        },
        "id": "csx36F3KegHR",
        "outputId": "13299384-2475-40e4-f06d-62c5c60004eb"
      },
      "execution_count": 13,
      "outputs": [
        {
          "output_type": "stream",
          "name": "stdout",
          "text": [
            "Train:  25132 rows (70%)\n",
            "Test:  10772 rows (30%)\n"
          ]
        }
      ]
    },
    {
      "cell_type": "markdown",
      "source": [
        "# Model Testing\n",
        "\n",
        "1. Decision Tree\n",
        "2. Random Forest (RF)\n",
        "3. Deep Neural Network\n",
        "4. Hist Gradient Boosting (HGB)\n",
        "5. Bagging Classification\n",
        "6. Voting Classification (RF+HGB+Bagging)\n",
        "\n",
        "---\n",
        "\n"
      ],
      "metadata": {
        "id": "0et6LgrSi87n"
      }
    },
    {
      "cell_type": "markdown",
      "source": [
        "## **Decision Tree:**"
      ],
      "metadata": {
        "id": "f8Q8gERWtP0Z"
      }
    },
    {
      "cell_type": "code",
      "source": [
        "from sklearn.tree import DecisionTreeClassifier\n",
        "from sklearn.model_selection import cross_validate, KFold\n",
        "\n",
        "\n",
        "SEED = 42\n",
        "np.random.seed(SEED)\n",
        "DTree = DecisionTreeClassifier()\n",
        "\n",
        "cv=KFold(n_splits=5, shuffle=True) # usa shuffle TRUE pra embaralhar os dados antes de dividir em pedaços qdo não for time series\n",
        "\n",
        "\n",
        "results = cross_validate(DTree, X_train_test_norm, y_train_test, cv = cv, return_train_score=False) # CV número de partes em que vai dividir\n",
        "\n",
        "mean = results['test_score'].mean()\n",
        "std = results['test_score'].std()\n",
        "\n",
        "# media +- 2*std =  95% de confiança\n",
        "\n",
        "print(\"Accuracy with cross validation, 5 folds:\\n\")\n",
        "print('Mean Accuracy: ', np.round((mean)*100,2),'%')\n",
        "print('STD: ', np.round(std,4))\n",
        "print('Interval with 95%% of confidence [%.2f, %.2f]' % ((mean - 2 *std) * 100, (mean + 2 * std) * 100))"
      ],
      "metadata": {
        "colab": {
          "base_uri": "https://localhost:8080/"
        },
        "id": "yzb71g_DjM2S",
        "outputId": "ecc0daf4-af57-4bc9-9667-bd3457fd95ab"
      },
      "execution_count": 14,
      "outputs": [
        {
          "output_type": "stream",
          "name": "stdout",
          "text": [
            "Accuracy with cross validation, 5 folds:\n",
            "\n",
            "Mean Accuracy:  95.2 %\n",
            "STD:  0.0027\n",
            "Interval with 95% of confidence [94.66, 95.75]\n"
          ]
        }
      ]
    },
    {
      "cell_type": "code",
      "source": [
        "DTree.fit(X_train,y_train)\n",
        "DTree.feature_importances_\n",
        "\n",
        "feature_importances = pd.DataFrame(index=X.columns)\n",
        "feature_importances['Value'] = DTree.feature_importances_\n",
        "\n",
        "feature_importances.sort_values(by='Value', ascending=False)\n",
        "sns.barplot(data=feature_importances.sort_values(by='Value', ascending=False), x='Value', y=feature_importances.index)"
      ],
      "metadata": {
        "colab": {
          "base_uri": "https://localhost:8080/",
          "height": 296
        },
        "id": "xESUhTxF3Ums",
        "outputId": "634d28d0-2a3a-4cc8-999c-9f381fbadc97"
      },
      "execution_count": 15,
      "outputs": [
        {
          "output_type": "execute_result",
          "data": {
            "text/plain": [
              "<matplotlib.axes._subplots.AxesSubplot at 0x7f4aaf390710>"
            ]
          },
          "metadata": {},
          "execution_count": 15
        },
        {
          "output_type": "display_data",
          "data": {
            "text/plain": [
              "<Figure size 432x288 with 1 Axes>"
            ],
            "image/png": "[encoded data removed]"
          },
          "metadata": {
            "needs_background": "light"
          }
        }
      ]
    },
    {
      "cell_type": "markdown",
      "source": [
        "> Some Results using test data:"
      ],
      "metadata": {
        "id": "5h9pQKQolryS"
      }
    },
    {
      "cell_type": "code",
      "source": [
        "from sklearn.metrics import confusion_matrix, ConfusionMatrixDisplay\n",
        "\n",
        "DTree.fit(X_train,y_train)\n",
        "DTree_pred = DTree.predict(X_test)\n",
        "\n",
        "cm = confusion_matrix(y_test, DTree_pred, labels=DTree.classes_ ) #, normalize='all')\n",
        "\n",
        "disp = ConfusionMatrixDisplay(confusion_matrix=cm,\n",
        "                               display_labels=DTree.classes_)\n",
        "plt.figure(figsize=(8,18))\n",
        "disp.plot()\n",
        "\n",
        "plt.show()"
      ],
      "metadata": {
        "colab": {
          "base_uri": "https://localhost:8080/",
          "height": 296
        },
        "id": "rbk92pWrlqwX",
        "outputId": "093c0e5c-ee53-46b4-abb7-f7ae6601c03f"
      },
      "execution_count": 16,
      "outputs": [
        {
          "output_type": "display_data",
          "data": {
            "text/plain": [
              "<Figure size 576x1296 with 0 Axes>"
            ]
          },
          "metadata": {}
        },
        {
          "output_type": "display_data",
          "data": {
            "text/plain": [
              "<Figure size 432x288 with 2 Axes>"
            ],
            "image/png": "[encoded data removed]"
          },
          "metadata": {
            "needs_background": "light"
          }
        }
      ]
    },
    {
      "cell_type": "code",
      "source": [
        "from sklearn.metrics import classification_report\n",
        "\n",
        "print(classification_report(y_test,DTree_pred))"
      ],
      "metadata": {
        "colab": {
          "base_uri": "https://localhost:8080/"
        },
        "id": "bb0pgPGMskN9",
        "outputId": "e9b6a3a0-f925-4dac-f574-203f4fc14959"
      },
      "execution_count": 17,
      "outputs": [
        {
          "output_type": "stream",
          "name": "stdout",
          "text": [
            "              precision    recall  f1-score   support\n",
            "\n",
            "         0.0       0.98      0.91      0.94      5386\n",
            "         1.0       0.92      0.98      0.95      5386\n",
            "\n",
            "    accuracy                           0.95     10772\n",
            "   macro avg       0.95      0.95      0.95     10772\n",
            "weighted avg       0.95      0.95      0.95     10772\n",
            "\n"
          ]
        }
      ]
    },
    {
      "cell_type": "code",
      "source": [
        "from sklearn.metrics import roc_curve, roc_auc_score\n",
        "\n",
        "prob_pred = DTree.predict_proba(X_test)[:,1]\n",
        "\n",
        "# tfp - taxa de falsos positivos\n",
        "# tvp - taxa de verdadeiros positivos\n",
        "\n",
        "tfp, tvp, limite = roc_curve(y_test, prob_pred)\n",
        "print('ROC AUC score = ', roc_auc_score(y_test, prob_pred))\n",
        "\n",
        "plt.subplots(1, figsize=(15,5))\n",
        "plt.title('ROC Curve')\n",
        "plt.plot(tfp, tvp)\n",
        "plt.xlabel('Specificity')\n",
        "plt.ylabel('Sensibility')\n",
        "plt.plot([0, 1], ls=\"--\", c = 'red') #plotando linha guia pontilhada vermelha\n",
        "plt.plot([0, 0], [1, 0], ls=\"--\", c = 'green'), plt.plot([1, 1], ls=\"--\", c = 'green') #plotando linha guia pontilhada verde\n",
        "plt.show()"
      ],
      "metadata": {
        "colab": {
          "base_uri": "https://localhost:8080/",
          "height": 367
        },
        "id": "_A7tNOEOsxKa",
        "outputId": "bdfda316-3c01-4f91-eaff-3399198cc289"
      },
      "execution_count": 18,
      "outputs": [
        {
          "output_type": "stream",
          "name": "stdout",
          "text": [
            "ROC AUC score =  0.9452283698477534\n"
          ]
        },
        {
          "output_type": "display_data",
          "data": {
            "text/plain": [
              "<Figure size 1080x360 with 1 Axes>"
            ],
            "image/png": "[encoded data removed]"
          },
          "metadata": {
            "needs_background": "light"
          }
        }
      ]
    },
    {
      "cell_type": "markdown",
      "source": [
        "**Summary**:\n",
        "\n",
        "* ROC AUC: 0.9394\n",
        "* Accuracy: 0.94\n",
        "* F-measure: 0.94"
      ],
      "metadata": {
        "id": "IkstKfYWKZLd"
      }
    },
    {
      "cell_type": "markdown",
      "source": [
        "## **Random Forest:**"
      ],
      "metadata": {
        "id": "c1J-Ns4WtSrH"
      }
    },
    {
      "cell_type": "code",
      "source": [
        "from sklearn.ensemble import RandomForestClassifier\n",
        "from sklearn.model_selection import cross_validate, KFold\n",
        "\n",
        "SEED = 42\n",
        "np.random.seed(SEED)\n",
        "RForest = RandomForestClassifier()\n",
        "\n",
        "cv=KFold(n_splits=5, shuffle=True) # usa shuffle TRUE pra embaralhar os dados antes de dividir em pedaços qdo não for time series\n",
        "\n",
        "\n",
        "results = cross_validate(RForest, X_train_test_norm, y_train_test, cv = cv, return_train_score=False) # CV número de partes em que vai dividir\n",
        "\n",
        "mean = results['test_score'].mean()\n",
        "std = results['test_score'].std()\n",
        "\n",
        "# media +- 2*std =  95% de confiança\n",
        "\n",
        "print(\"Accuracy with cross validation, 5 folds:\\n\")\n",
        "print('Mean Accuracy: ', np.round((mean)*100,2),'%')\n",
        "print('STD: ', np.round(std,4))\n",
        "print('Interval with 95%% of confidence [%.2f, %.2f]' % ((mean - 2 *std) * 100, (mean + 2 * std) * 100))"
      ],
      "metadata": {
        "colab": {
          "base_uri": "https://localhost:8080/"
        },
        "id": "MoXO7NlVtUyD",
        "outputId": "d95b27f7-a679-42c3-e4c1-2174aa1c5d11"
      },
      "execution_count": 19,
      "outputs": [
        {
          "output_type": "stream",
          "name": "stdout",
          "text": [
            "Accuracy with cross validation, 5 folds:\n",
            "\n",
            "Mean Accuracy:  98.4 %\n",
            "STD:  0.0018\n",
            "Interval with 95% of confidence [98.05, 98.75]\n"
          ]
        }
      ]
    },
    {
      "cell_type": "markdown",
      "source": [
        "> Some Results using test data:"
      ],
      "metadata": {
        "id": "4YbFvbXpwprw"
      }
    },
    {
      "cell_type": "code",
      "source": [
        "from sklearn.metrics import confusion_matrix, ConfusionMatrixDisplay\n",
        "\n",
        "RForest.fit(X_train,y_train)\n",
        "RForest_pred = RForest.predict(X_test)\n",
        "\n",
        "cm = confusion_matrix(y_test, RForest_pred, labels=RForest.classes_)\n",
        "\n",
        "disp = ConfusionMatrixDisplay(confusion_matrix=cm,\n",
        "                               display_labels=RForest.classes_)\n",
        "disp.plot()\n",
        "plt.show()"
      ],
      "metadata": {
        "colab": {
          "base_uri": "https://localhost:8080/",
          "height": 279
        },
        "id": "L6o_mvCotzfr",
        "outputId": "7a605d45-809b-4569-9cfd-ecc0b0e8b0a5"
      },
      "execution_count": 20,
      "outputs": [
        {
          "output_type": "display_data",
          "data": {
            "text/plain": [
              "<Figure size 432x288 with 2 Axes>"
            ],
            "image/png": "[encoded data removed]"
          },
          "metadata": {
            "needs_background": "light"
          }
        }
      ]
    },
    {
      "cell_type": "code",
      "source": [
        "feature_importances = pd.DataFrame(index=X.columns)\n",
        "feature_importances['Value'] = RForest.feature_importances_\n",
        "\n",
        "feature_importances.sort_values(by='Value', ascending=False)\n",
        "sns.barplot(data=feature_importances.sort_values(by='Value', ascending=False), x='Value', y=feature_importances.index)"
      ],
      "metadata": {
        "colab": {
          "base_uri": "https://localhost:8080/",
          "height": 296
        },
        "id": "3VOtOkkCeG3t",
        "outputId": "393e3340-56e1-4292-c912-f8e4ce5af71f"
      },
      "execution_count": 77,
      "outputs": [
        {
          "output_type": "execute_result",
          "data": {
            "text/plain": [
              "<matplotlib.axes._subplots.AxesSubplot at 0x7f4a454f30d0>"
            ]
          },
          "metadata": {},
          "execution_count": 77
        },
        {
          "output_type": "display_data",
          "data": {
            "text/plain": [
              "<Figure size 432x288 with 1 Axes>"
            ],
            "image/png": "[encoded data removed]"
          },
          "metadata": {
            "needs_background": "light"
          }
        }
      ]
    },
    {
      "cell_type": "code",
      "source": [
        "from sklearn.metrics import classification_report\n",
        "\n",
        "print(classification_report(y_test,RForest_pred))"
      ],
      "metadata": {
        "colab": {
          "base_uri": "https://localhost:8080/"
        },
        "id": "BO5kJzQJG8gO",
        "outputId": "81800295-d917-4233-faa3-b213b44e2632"
      },
      "execution_count": 21,
      "outputs": [
        {
          "output_type": "stream",
          "name": "stdout",
          "text": [
            "              precision    recall  f1-score   support\n",
            "\n",
            "         0.0       0.98      0.98      0.98      5386\n",
            "         1.0       0.98      0.98      0.98      5386\n",
            "\n",
            "    accuracy                           0.98     10772\n",
            "   macro avg       0.98      0.98      0.98     10772\n",
            "weighted avg       0.98      0.98      0.98     10772\n",
            "\n"
          ]
        }
      ]
    },
    {
      "cell_type": "code",
      "source": [
        "from sklearn.metrics import roc_curve, roc_auc_score\n",
        "\n",
        "prob_pred = RForest.predict_proba(X_test)[:,1]\n",
        "\n",
        "# tfp - taxa de falsos positivos\n",
        "# tvp - taxa de verdadeiros positivos\n",
        "\n",
        "tfp, tvp, limite = roc_curve(y_test, prob_pred)\n",
        "print('ROC AUC score = ', roc_auc_score(y_test, prob_pred))\n",
        "\n",
        "plt.subplots(1, figsize=(15,5))\n",
        "plt.title('ROC Curve')\n",
        "plt.plot(tfp, tvp)\n",
        "plt.xlabel('Specificity')\n",
        "plt.ylabel('Sensibility')\n",
        "plt.plot([0, 1], ls=\"--\", c = 'red') #plotando linha guia pontilhada vermelha\n",
        "plt.plot([0, 0], [1, 0], ls=\"--\", c = 'green'), plt.plot([1, 1], ls=\"--\", c = 'green') #plotando linha guia pontilhada verde\n",
        "plt.show()"
      ],
      "metadata": {
        "colab": {
          "base_uri": "https://localhost:8080/",
          "height": 367
        },
        "id": "HFAfuTVOwWeZ",
        "outputId": "8013064c-7baf-4927-b85e-f25615570f70"
      },
      "execution_count": 22,
      "outputs": [
        {
          "output_type": "stream",
          "name": "stdout",
          "text": [
            "ROC AUC score =  0.9948242434863999\n"
          ]
        },
        {
          "output_type": "display_data",
          "data": {
            "text/plain": [
              "<Figure size 1080x360 with 1 Axes>"
            ],
            "image/png": "[encoded data removed]"
          },
          "metadata": {
            "needs_background": "light"
          }
        }
      ]
    },
    {
      "cell_type": "markdown",
      "source": [
        "**Summary**:\n",
        "\n",
        "* ROC AUC: 0.9924\n",
        "* Accuracy: 0.97\n",
        "* F-measure: 0.97"
      ],
      "metadata": {
        "id": "HMSEZSpHKNUI"
      }
    },
    {
      "cell_type": "markdown",
      "source": [
        "## **Hist Gradient Boosting**"
      ],
      "metadata": {
        "id": "IvqAP9cZY81B"
      }
    },
    {
      "cell_type": "code",
      "source": [
        "from sklearn.ensemble import HistGradientBoostingClassifier\n",
        "from sklearn.model_selection import cross_validate, KFold\n",
        "\n",
        "SEED = 42\n",
        "np.random.seed(SEED)\n",
        "HGB = HistGradientBoostingClassifier()\n",
        "\n",
        "cv=KFold(n_splits=5, shuffle=True) # usa shuffle TRUE pra embaralhar os dados antes de dividir em pedaços qdo não for time series\n",
        "\n",
        "\n",
        "results = cross_validate(HGB, X_train_test_norm, y_train_test, cv = cv, return_train_score=False) # CV número de partes em que vai dividir\n",
        "\n",
        "mean = results['test_score'].mean()\n",
        "std = results['test_score'].std()\n",
        "\n",
        "# media +- 2*std =  95% de confiança\n",
        "\n",
        "print(\"Accuracy with cross validation, 5 folds:\\n\")\n",
        "print('Mean Accuracy: ', np.round((mean)*100,2),'%')\n",
        "print('STD: ', np.round(std,4))\n",
        "print('Interval with 95%% of confidence [%.2f, %.2f]' % ((mean - 2 *std) * 100, (mean + 2 * std) * 100))"
      ],
      "metadata": {
        "colab": {
          "base_uri": "https://localhost:8080/"
        },
        "id": "-QZQdBBzabn4",
        "outputId": "f5499411-561d-4563-be6a-a03ee6d94723"
      },
      "execution_count": 23,
      "outputs": [
        {
          "output_type": "stream",
          "name": "stdout",
          "text": [
            "Accuracy with cross validation, 5 folds:\n",
            "\n",
            "Mean Accuracy:  89.95 %\n",
            "STD:  0.0024\n",
            "Interval with 95% of confidence [89.47, 90.42]\n"
          ]
        }
      ]
    },
    {
      "cell_type": "markdown",
      "source": [
        "> Some Results using test data:"
      ],
      "metadata": {
        "id": "EPwAe56MavDn"
      }
    },
    {
      "cell_type": "code",
      "source": [
        "from sklearn.metrics import confusion_matrix, ConfusionMatrixDisplay\n",
        "\n",
        "HGB.fit(X_train,y_train)\n",
        "HGB_pred = RForest.predict(X_test)\n",
        "\n",
        "cm = confusion_matrix(y_test, HGB_pred, labels=HGB.classes_)\n",
        "\n",
        "disp = ConfusionMatrixDisplay(confusion_matrix=cm,\n",
        "                               display_labels=HGB.classes_)\n",
        "disp.plot()\n",
        "plt.show()"
      ],
      "metadata": {
        "colab": {
          "base_uri": "https://localhost:8080/",
          "height": 279
        },
        "id": "FSXNb8RBaoIZ",
        "outputId": "257c7d66-71dc-4a76-b029-a804380d15a1"
      },
      "execution_count": 24,
      "outputs": [
        {
          "output_type": "display_data",
          "data": {
            "text/plain": [
              "<Figure size 432x288 with 2 Axes>"
            ],
            "image/png": "[encoded data removed]"
          },
          "metadata": {
            "needs_background": "light"
          }
        }
      ]
    },
    {
      "cell_type": "code",
      "source": [
        "from sklearn.metrics import classification_report\n",
        "\n",
        "print(classification_report(y_test,HGB_pred))"
      ],
      "metadata": {
        "colab": {
          "base_uri": "https://localhost:8080/"
        },
        "id": "gmvYbP3Bb6UL",
        "outputId": "a428016f-c2e5-4791-9bfa-4dda6e6cb19f"
      },
      "execution_count": 25,
      "outputs": [
        {
          "output_type": "stream",
          "name": "stdout",
          "text": [
            "              precision    recall  f1-score   support\n",
            "\n",
            "         0.0       0.98      0.98      0.98      5386\n",
            "         1.0       0.98      0.98      0.98      5386\n",
            "\n",
            "    accuracy                           0.98     10772\n",
            "   macro avg       0.98      0.98      0.98     10772\n",
            "weighted avg       0.98      0.98      0.98     10772\n",
            "\n"
          ]
        }
      ]
    },
    {
      "cell_type": "code",
      "source": [
        "from sklearn.metrics import roc_curve, roc_auc_score\n",
        "\n",
        "prob_pred = HGB.predict_proba(X_test)[:,1]\n",
        "\n",
        "# tfp - taxa de falsos positivos\n",
        "# tvp - taxa de verdadeiros positivos\n",
        "\n",
        "tfp, tvp, limite = roc_curve(y_test, prob_pred)\n",
        "print('ROC AUC score = ', roc_auc_score(y_test, prob_pred))\n",
        "\n",
        "plt.subplots(1, figsize=(15,5))\n",
        "plt.title('ROC Curve')\n",
        "plt.plot(tfp, tvp)\n",
        "plt.xlabel('Specificity')\n",
        "plt.ylabel('Sensibility')\n",
        "plt.plot([0, 1], ls=\"--\", c = 'red') #plotando linha guia pontilhada vermelha\n",
        "plt.plot([0, 0], [1, 0], ls=\"--\", c = 'green'), plt.plot([1, 1], ls=\"--\", c = 'green') #plotando linha guia pontilhada verde\n",
        "plt.show()"
      ],
      "metadata": {
        "colab": {
          "base_uri": "https://localhost:8080/",
          "height": 367
        },
        "id": "t_5N6orqcOBa",
        "outputId": "b31187a5-6250-4963-8aad-cd79c02d92d5"
      },
      "execution_count": 26,
      "outputs": [
        {
          "output_type": "stream",
          "name": "stdout",
          "text": [
            "ROC AUC score =  0.971019524426147\n"
          ]
        },
        {
          "output_type": "display_data",
          "data": {
            "text/plain": [
              "<Figure size 1080x360 with 1 Axes>"
            ],
            "image/png": "[encoded data removed]"
          },
          "metadata": {
            "needs_background": "light"
          }
        }
      ]
    },
    {
      "cell_type": "markdown",
      "source": [
        "## **Deep Neural Network:**"
      ],
      "metadata": {
        "id": "1YHRUnEtxNHh"
      }
    },
    {
      "cell_type": "code",
      "source": [
        "X_train_test_norm.shape"
      ],
      "metadata": {
        "colab": {
          "base_uri": "https://localhost:8080/"
        },
        "id": "6qjgZccjz7Nv",
        "outputId": "3e3cb8d5-8215-4d1b-8202-14e0c8eb8b55"
      },
      "execution_count": 27,
      "outputs": [
        {
          "output_type": "execute_result",
          "data": {
            "text/plain": [
              "(35904, 22)"
            ]
          },
          "metadata": {},
          "execution_count": 27
        }
      ]
    },
    {
      "cell_type": "code",
      "source": [
        "import tensorflow\n",
        "from tensorflow import keras\n",
        "\n",
        "\n",
        "model = keras.Sequential([\n",
        "    keras.Input(shape=(X_train_test_norm.shape[1])), #24 ou 18\n",
        "    keras.layers.Dense(128, activation = tensorflow.nn.relu), \n",
        "    keras.layers.Dense(256, activation = tensorflow.nn.relu),\n",
        "    # keras.layers.Dense(64, activation = tensorflow.nn.relu),\n",
        "    # keras.layers.Dropout(0.5),\n",
        "    keras.layers.Dense(1, activation = tensorflow.nn.sigmoid)\n",
        "\n",
        "])\n",
        "\n",
        "# adam = keras.optimizers.Adam(learning_rate=0.002)\n",
        "\n",
        "cb = [keras.callbacks.EarlyStopping(monitor='val_loss', patience=5),\n",
        "             keras.callbacks.ModelCheckpoint( filepath='best_model.hdf5',\n",
        "                                             monitor='val_loss',\n",
        "                                             save_best_only=True,\n",
        "                                             patience=5)\n",
        "             ]\n",
        "\n",
        "model.compile(optimizer = 'Adam', \n",
        "              loss= 'binary_crossentropy',\n",
        "              metrics=['accuracy']\n",
        "              )\n",
        "\n",
        "hist = model.fit(X_train, y_train, epochs=50, validation_data=(X_test,y_test), verbose=0 ) #, callbacks=cb)"
      ],
      "metadata": {
        "id": "Qx89ZmIqxRdU"
      },
      "execution_count": 28,
      "outputs": []
    },
    {
      "cell_type": "code",
      "source": [
        "plt.figure(figsize=(10,8))\n",
        "plt.subplot(2,1,1)\n",
        "plt.plot(hist.history['accuracy'], marker='o')\n",
        "plt.plot(hist.history['val_accuracy'], marker='o')\n",
        "plt.subplot(2,1,2)\n",
        "plt.plot(hist.history['loss'], marker='o')\n",
        "plt.plot(hist.history['val_loss'], marker='o')"
      ],
      "metadata": {
        "colab": {
          "base_uri": "https://localhost:8080/",
          "height": 500
        },
        "id": "GPTGGvMZxfwa",
        "outputId": "eba7d2b9-f17a-4369-ba76-7f90adbd2bfa"
      },
      "execution_count": 29,
      "outputs": [
        {
          "output_type": "execute_result",
          "data": {
            "text/plain": [
              "[<matplotlib.lines.Line2D at 0x7f4a4a944c10>]"
            ]
          },
          "metadata": {},
          "execution_count": 29
        },
        {
          "output_type": "display_data",
          "data": {
            "text/plain": [
              "<Figure size 720x576 with 2 Axes>"
            ],
            "image/png": "[encoded data removed]"
          },
          "metadata": {
            "needs_background": "light"
          }
        }
      ]
    },
    {
      "cell_type": "code",
      "source": [
        "from sklearn.metrics import confusion_matrix, ConfusionMatrixDisplay\n",
        "\n",
        "DNN_pred = np.round(model.predict(X_test))\n",
        "\n",
        "cm = confusion_matrix(y_test, DNN_pred, labels=np.array([0,1]))\n",
        "\n",
        "disp = ConfusionMatrixDisplay(confusion_matrix=cm,\n",
        "                               display_labels=np.array([0,1]))\n",
        "disp.plot()\n",
        "plt.show()"
      ],
      "metadata": {
        "id": "0xXvXNMx4Xf1",
        "colab": {
          "base_uri": "https://localhost:8080/",
          "height": 280
        },
        "outputId": "c8032a59-f143-480b-8751-eae159ec44c2"
      },
      "execution_count": 30,
      "outputs": [
        {
          "output_type": "display_data",
          "data": {
            "text/plain": [
              "<Figure size 432x288 with 2 Axes>"
            ],
            "image/png": "[encoded data removed]"
          },
          "metadata": {
            "needs_background": "light"
          }
        }
      ]
    },
    {
      "cell_type": "code",
      "source": [
        "from sklearn.metrics import classification_report\n",
        "\n",
        "print(classification_report(y_test,DNN_pred))"
      ],
      "metadata": {
        "colab": {
          "base_uri": "https://localhost:8080/"
        },
        "id": "g_L3WaVnHEC7",
        "outputId": "01f52d70-87ae-4c14-9e88-d5776e2089b3"
      },
      "execution_count": 31,
      "outputs": [
        {
          "output_type": "stream",
          "name": "stdout",
          "text": [
            "              precision    recall  f1-score   support\n",
            "\n",
            "         0.0       0.94      0.91      0.92      5386\n",
            "         1.0       0.91      0.94      0.93      5386\n",
            "\n",
            "    accuracy                           0.92     10772\n",
            "   macro avg       0.93      0.92      0.92     10772\n",
            "weighted avg       0.93      0.92      0.92     10772\n",
            "\n"
          ]
        }
      ]
    },
    {
      "cell_type": "code",
      "source": [
        "from sklearn.metrics import roc_curve, roc_auc_score\n",
        "\n",
        "prob_pred = model.predict(X_test)\n",
        "\n",
        "# tfp - taxa de falsos positivos\n",
        "# tvp - taxa de verdadeiros positivos\n",
        "\n",
        "tfp, tvp, limite = roc_curve(y_test, prob_pred)\n",
        "print('ROC AUC score = ', roc_auc_score(y_test, prob_pred))\n",
        "\n",
        "plt.subplots(1, figsize=(15,5))\n",
        "plt.title('ROC Curve')\n",
        "plt.plot(tfp, tvp)\n",
        "plt.xlabel('Specificity')\n",
        "plt.ylabel('Sensibility')\n",
        "plt.plot([0, 1], ls=\"--\", c = 'red') #plotando linha guia pontilhada vermelha\n",
        "plt.plot([0, 0], [1, 0], ls=\"--\", c = 'green'), plt.plot([1, 1], ls=\"--\", c = 'green') #plotando linha guia pontilhada verde\n",
        "plt.show()"
      ],
      "metadata": {
        "colab": {
          "base_uri": "https://localhost:8080/",
          "height": 367
        },
        "id": "opDu7XxqEtN9",
        "outputId": "59061bc3-84d5-43d6-ea4b-2f09c9ba2020"
      },
      "execution_count": 32,
      "outputs": [
        {
          "output_type": "stream",
          "name": "stdout",
          "text": [
            "ROC AUC score =  0.9759361716620596\n"
          ]
        },
        {
          "output_type": "display_data",
          "data": {
            "text/plain": [
              "<Figure size 1080x360 with 1 Axes>"
            ],
            "image/png": "[encoded data removed]"
          },
          "metadata": {
            "needs_background": "light"
          }
        }
      ]
    },
    {
      "cell_type": "markdown",
      "source": [
        "**Summary**:\n",
        "\n",
        "* ROC AUC: 0.9790\n",
        "* Accuracy: 0.95\n",
        "* F-measure: 0.95"
      ],
      "metadata": {
        "id": "VWw7dYeyJzLj"
      }
    },
    {
      "cell_type": "markdown",
      "source": [
        "## **Bagging Classifier**"
      ],
      "metadata": {
        "id": "RvsZwviHtVnD"
      }
    },
    {
      "cell_type": "code",
      "source": [
        "from sklearn.ensemble import BaggingClassifier\n",
        "from sklearn.model_selection import cross_validate, KFold\n",
        "\n",
        "SEED = 42\n",
        "np.random.seed(SEED)\n",
        "\n",
        "bag = BaggingClassifier()\n",
        "\n",
        "cv=KFold(n_splits=5, shuffle=True) # usa shuffle TRUE pra embaralhar os dados antes de dividir em pedaços qdo não for time series\n",
        "\n",
        "\n",
        "results = cross_validate(bag, X_train_test_norm, y_train_test, cv = cv, return_train_score=False) # CV número de partes em que vai dividir\n",
        "\n",
        "mean = results['test_score'].mean()\n",
        "std = results['test_score'].std()\n",
        "\n",
        "# media +- 2*std =  95% de confiança\n",
        "\n",
        "print(\"Accuracy with cross validation, 5 folds:\\n\")\n",
        "print('Mean Accuracy: ', np.round((mean)*100,2),'%')\n",
        "print('STD: ', np.round(std,4))\n",
        "print('Interval with 95%% of confidence [%.2f, %.2f]' % ((mean - 2 *std) * 100, (mean + 2 * std) * 100))"
      ],
      "metadata": {
        "colab": {
          "base_uri": "https://localhost:8080/"
        },
        "id": "jOYb9bT1tZ6_",
        "outputId": "6bccc90d-295a-42a6-a8f0-8df4dff323a1"
      },
      "execution_count": 41,
      "outputs": [
        {
          "output_type": "stream",
          "name": "stdout",
          "text": [
            "Accuracy with cross validation, 5 folds:\n",
            "\n",
            "Mean Accuracy:  97.53 %\n",
            "STD:  0.0013\n",
            "Interval with 95% of confidence [97.26, 97.79]\n"
          ]
        }
      ]
    },
    {
      "cell_type": "code",
      "source": [
        "from sklearn.metrics import confusion_matrix, ConfusionMatrixDisplay\n",
        "\n",
        "bag.fit(X_train,y_train)\n",
        "bag_pred = bag.predict(X_test)\n",
        "\n",
        "cm = confusion_matrix(y_test, bag_pred, labels=bag.classes_)\n",
        "\n",
        "disp = ConfusionMatrixDisplay(confusion_matrix=cm,\n",
        "                               display_labels=bag.classes_)\n",
        "disp.plot()\n",
        "plt.show()"
      ],
      "metadata": {
        "colab": {
          "base_uri": "https://localhost:8080/",
          "height": 279
        },
        "id": "HGNE0p-Wt7lB",
        "outputId": "44857114-bf84-404d-f3c1-de0add703378"
      },
      "execution_count": 42,
      "outputs": [
        {
          "output_type": "display_data",
          "data": {
            "text/plain": [
              "<Figure size 432x288 with 2 Axes>"
            ],
            "image/png": "[encoded data removed]"
          },
          "metadata": {
            "needs_background": "light"
          }
        }
      ]
    },
    {
      "cell_type": "markdown",
      "source": [
        "## **Voting (RF + HGB + Bagging)**"
      ],
      "metadata": {
        "id": "g5MtqPW7m7-b"
      }
    },
    {
      "cell_type": "code",
      "source": [
        "from sklearn.ensemble import HistGradientBoostingClassifier, VotingClassifier, RandomForestClassifier, BaggingClassifier\n",
        "from sklearn.model_selection import cross_validate, KFold\n",
        "\n",
        "SEED = 42\n",
        "np.random.seed(SEED)\n",
        "HGB_vot = HistGradientBoostingClassifier()\n",
        "rf_vot = RandomForestClassifier()\n",
        "bag_vot = BaggingClassifier()\n",
        "\n",
        "voting = VotingClassifier(estimators=[('rf', rf_vot), ('hgb', HGB_vot), ('bag',bag_vot)], \n",
        "                          voting='soft')\n",
        "\n",
        "cv=KFold(n_splits=5, shuffle=True) # usa shuffle TRUE pra embaralhar os dados antes de dividir em pedaços qdo não for time series\n",
        "\n",
        "\n",
        "results = cross_validate(voting, X_train_test_norm, y_train_test, cv = cv, return_train_score=False) # CV número de partes em que vai dividir\n",
        "\n",
        "mean = results['test_score'].mean()\n",
        "std = results['test_score'].std()\n",
        "\n",
        "# media +- 2*std =  95% de confiança\n",
        "\n",
        "print(\"Accuracy with cross validation, 5 folds:\\n\")\n",
        "print('Mean Accuracy: ', np.round((mean)*100,2),'%')\n",
        "print('STD: ', np.round(std,4))\n",
        "print('Interval with 95%% of confidence [%.2f, %.2f]' % ((mean - 2 *std) * 100, (mean + 2 * std) * 100))"
      ],
      "metadata": {
        "colab": {
          "base_uri": "https://localhost:8080/"
        },
        "id": "0SRzd5uLnAop",
        "outputId": "cb6143ed-aff9-44d7-f2e8-5e13a271ede2"
      },
      "execution_count": 35,
      "outputs": [
        {
          "output_type": "stream",
          "name": "stdout",
          "text": [
            "Accuracy with cross validation, 5 folds:\n",
            "\n",
            "Mean Accuracy:  97.98 %\n",
            "STD:  0.0014\n",
            "Interval with 95% of confidence [97.70, 98.27]\n"
          ]
        }
      ]
    },
    {
      "cell_type": "code",
      "source": [
        "from sklearn.metrics import confusion_matrix, ConfusionMatrixDisplay\n",
        "\n",
        "voting.fit(X_train,y_train)\n",
        "voting_pred = voting.predict(X_test)\n",
        "\n",
        "cm = confusion_matrix(y_test, voting_pred, labels=voting.classes_)\n",
        "\n",
        "disp = ConfusionMatrixDisplay(confusion_matrix=cm,\n",
        "                               display_labels=voting.classes_)\n",
        "disp.plot()\n",
        "plt.show()"
      ],
      "metadata": {
        "colab": {
          "base_uri": "https://localhost:8080/",
          "height": 279
        },
        "id": "wx72XBudowhf",
        "outputId": "8f9c629b-8997-4815-d6aa-f5026a1ad08e"
      },
      "execution_count": 36,
      "outputs": [
        {
          "output_type": "display_data",
          "data": {
            "text/plain": [
              "<Figure size 432x288 with 2 Axes>"
            ],
            "image/png": "[encoded data removed]"
          },
          "metadata": {
            "needs_background": "light"
          }
        }
      ]
    },
    {
      "cell_type": "markdown",
      "source": [
        "# Evaluating methods with validation Data \n",
        "\n",
        "* X_val\n",
        "* y_val"
      ],
      "metadata": {
        "id": "b2jvAj37GfaQ"
      }
    },
    {
      "cell_type": "markdown",
      "source": [
        "## Confusion Matrix"
      ],
      "metadata": {
        "id": "MGZyfZmoLB68"
      }
    },
    {
      "cell_type": "code",
      "source": [
        "from sklearn.metrics import confusion_matrix, ConfusionMatrixDisplay\n",
        "\n",
        "fig = plt.figure(figsize=(24,15))\n",
        "ax = fig.add_subplot(2,3,1)\n",
        "ax.set_title('Decision Tree', fontsize=16)\n",
        "ax2 = fig.add_subplot(2,3,2)\n",
        "ax2.set_title('Random Forest', fontsize=16)\n",
        "ax3 = fig.add_subplot(2,3,3)\n",
        "ax3.set_title('DNN', fontsize=16)\n",
        "ax4 = fig.add_subplot(2,3,4)\n",
        "ax4.set_title('HGB', fontsize=16)\n",
        "ax5 = fig.add_subplot(2,3,5)\n",
        "ax5.set_title('Bagging', fontsize=16)\n",
        "ax6 = fig.add_subplot(2,3,6)\n",
        "ax6.set_title('Voting (RF+HGB)', fontsize=16)\n",
        "\n",
        "DTree_pred_val = DTree.predict(X_val)\n",
        "RForest_pred_val = RForest.predict(X_val)\n",
        "DNN_pred_val = np.round(model.predict(X_val))\n",
        "HGB_pred_val = HGB.predict(X_val)\n",
        "bag_pred_val = bag.predict(X_val)\n",
        "voting_pred_val = voting.predict(X_val)\n",
        "\n",
        "cm = confusion_matrix(y_val, DTree_pred_val, labels=np.array([0,1]))\n",
        "disp = ConfusionMatrixDisplay(confusion_matrix=cm,\n",
        "                               display_labels=np.array([0,1]))\n",
        "\n",
        "cm2 = confusion_matrix(y_val, RForest_pred_val, labels=np.array([0,1]))\n",
        "disp2 = ConfusionMatrixDisplay(confusion_matrix=cm2,\n",
        "                               display_labels=np.array([0,1]))\n",
        "\n",
        "cm3 = confusion_matrix(y_val, DNN_pred_val, labels=np.array([0,1]))\n",
        "disp3 = ConfusionMatrixDisplay(confusion_matrix=cm3,\n",
        "                               display_labels=np.array([0,1]))\n",
        "\n",
        "cm4 = confusion_matrix(y_val, HGB_pred_val, labels=np.array([0,1]))\n",
        "disp4 = ConfusionMatrixDisplay(confusion_matrix=cm4,\n",
        "                               display_labels=np.array([0,1]))\n",
        "\n",
        "cm5 = confusion_matrix(y_val, bag_pred_val, labels=np.array([0,1]))\n",
        "disp5 = ConfusionMatrixDisplay(confusion_matrix=cm5,\n",
        "                               display_labels=np.array([0,1]))\n",
        "\n",
        "cm6 = confusion_matrix(y_val, voting_pred_val, labels=np.array([0,1]))\n",
        "disp6 = ConfusionMatrixDisplay(confusion_matrix=cm6,\n",
        "                               display_labels=np.array([0,1]))\n",
        "\n",
        "disp.plot(ax=ax)\n",
        "disp2.plot(ax=ax2)\n",
        "disp3.plot(ax=ax3)\n",
        "disp4.plot(ax=ax4)\n",
        "disp5.plot(ax=ax5)\n",
        "disp6.plot(ax=ax6)\n",
        "plt.show()"
      ],
      "metadata": {
        "colab": {
          "base_uri": "https://localhost:8080/",
          "height": 850
        },
        "id": "_vL2IUjIGuYA",
        "outputId": "91eee98f-3cbe-40b2-f5f4-765616dc39e0"
      },
      "execution_count": 37,
      "outputs": [
        {
          "output_type": "display_data",
          "data": {
            "text/plain": [
              "<Figure size 1728x1080 with 12 Axes>"
            ],
            "image/png": "[encoded data removed]"
          },
          "metadata": {
            "needs_background": "light"
          }
        }
      ]
    },
    {
      "cell_type": "markdown",
      "source": [
        "## Classification Metrics"
      ],
      "metadata": {
        "id": "Eqbbr89_jaV8"
      }
    },
    {
      "cell_type": "code",
      "source": [
        "def get_classification_report(y_test, y_pred):\n",
        "    report = classification_report(y_test, y_pred, output_dict=True)\n",
        "    df_classification_report = pd.DataFrame(report).T\n",
        "    # df_classification_report = df_classification_report.sort_values(by=['f1-score'], ascending=False)\n",
        "    return df_classification_report\n",
        "\n",
        "def insert_value_df(df, metric, method1, method2, method3, method4, method5, method6):\n",
        "  dic = {'Metric': metric, \n",
        "         'Decision Tree':method1, \n",
        "         'Random Forest':method2, \n",
        "         'DNN':method3,\n",
        "         'HGB':method4,\n",
        "         'Bagging': method5,\n",
        "         'Voting': method6}\n",
        "  df = df.append(dic, ignore_index=True)\n",
        "  return df\n",
        "\n",
        "\n",
        "DTree_metrics = get_classification_report(y_val,DTree_pred_val)\n",
        "RForest_metrics = get_classification_report(y_val,RForest_pred_val)\n",
        "DNN_metrics = get_classification_report(y_val,DNN_pred_val)\n",
        "HGB_metrics = get_classification_report(y_val,HGB_pred_val)\n",
        "bag_metrics = get_classification_report(y_val,bag_pred_val)\n",
        "voting_metrics = get_classification_report(y_val,voting_pred_val)\n",
        "\n",
        "metrics = pd.DataFrame(columns=['Metric', 'Decision Tree', 'Random Forest', 'DNN', 'HGB', 'Bagging', 'Voting'])\n",
        "metrics = insert_value_df(metrics,'Accuracy',\n",
        "                          DTree_metrics.loc['accuracy']['f1-score'],\n",
        "                          RForest_metrics.loc['accuracy']['f1-score'],\n",
        "                          DNN_metrics.loc['accuracy']['f1-score'],\n",
        "                          HGB_metrics.loc['accuracy']['f1-score'],\n",
        "                          bag_metrics.loc['accuracy']['f1-score'],\n",
        "                          voting_metrics.loc['accuracy']['f1-score'])\n",
        "\n",
        "metrics = insert_value_df(metrics,'Precision',\n",
        "                          DTree_metrics.loc['macro avg']['precision'],\n",
        "                          RForest_metrics.loc['macro avg']['precision'],\n",
        "                          DNN_metrics.loc['macro avg']['precision'],\n",
        "                          HGB_metrics.loc['macro avg']['precision'],\n",
        "                          bag_metrics.loc['macro avg']['precision'],\n",
        "                          voting_metrics.loc['macro avg']['precision'])\n",
        "\n",
        "metrics = insert_value_df(metrics,'Recall',\n",
        "                          DTree_metrics.loc['macro avg']['recall'],\n",
        "                          RForest_metrics.loc['macro avg']['recall'],\n",
        "                          DNN_metrics.loc['macro avg']['recall'],\n",
        "                          HGB_metrics.loc['macro avg']['recall'],\n",
        "                          bag_metrics.loc['macro avg']['recall'],\n",
        "                          voting_metrics.loc['macro avg']['recall'])\n",
        "\n",
        "metrics = insert_value_df(metrics,'F1-score',\n",
        "                          DTree_metrics.loc['macro avg']['f1-score'],\n",
        "                          RForest_metrics.loc['macro avg']['f1-score'],\n",
        "                          DNN_metrics.loc['macro avg']['f1-score'],\n",
        "                          HGB_metrics.loc['macro avg']['f1-score'],\n",
        "                          bag_metrics.loc['macro avg']['f1-score'],\n",
        "                          voting_metrics.loc['macro avg']['f1-score'])\n",
        "\n",
        "metrics = metrics.set_index('Metric')\n",
        "metrics = metrics.T\n",
        "\n",
        "\n",
        "plt.figure(figsize=(20,8))\n",
        "\n",
        "plt.subplot(2,2,1)\n",
        "plt.xlim(0.7,1)\n",
        "sns.barplot(data = metrics, y= metrics.index, x='Accuracy')\n",
        "plt.title('Accuracy', fontsize=16)\n",
        "plt.xlabel('')\n",
        "\n",
        "plt.subplot(2,2,2)\n",
        "plt.xlim(0.7,1)\n",
        "sns.barplot(data = metrics, y= metrics.index, x='Precision')\n",
        "plt.title('Precision', fontsize=16)\n",
        "plt.xlabel('')\n",
        "\n",
        "plt.subplot(2,2,3)\n",
        "plt.xlim(0.7,1)\n",
        "sns.barplot(data = metrics, y= metrics.index, x='Recall')\n",
        "plt.title('Recall', fontsize=16)\n",
        "plt.xlabel('')\n",
        "\n",
        "plt.subplot(2,2,4)\n",
        "plt.xlim(0.7,1)\n",
        "sns.barplot(data = metrics, y= metrics.index, x='F1-score')\n",
        "plt.title('F1-Score', fontsize=16)\n",
        "plt.xlabel('')\n",
        "\n",
        "# plt.show()\n",
        "\n",
        "plt.savefig('all_features_upsamp.png')\n",
        "\n",
        "\n"
      ],
      "metadata": {
        "colab": {
          "base_uri": "https://localhost:8080/",
          "height": 501
        },
        "id": "CFNLw8e6AS4P",
        "outputId": "1cb90d2e-12ae-47d7-ffec-e5d0bcc47ac9"
      },
      "execution_count": 38,
      "outputs": [
        {
          "output_type": "display_data",
          "data": {
            "text/plain": [
              "<Figure size 1440x576 with 4 Axes>"
            ],
            "image/png": "[encoded data removed]"
          },
          "metadata": {
            "needs_background": "light"
          }
        }
      ]
    },
    {
      "cell_type": "markdown",
      "source": [
        "## ROC Curve"
      ],
      "metadata": {
        "id": "U9ioJAS_jic2"
      }
    },
    {
      "cell_type": "code",
      "source": [
        "from sklearn.metrics import roc_curve, roc_auc_score\n",
        "\n",
        "dnn_pred = model.predict(X_val)\n",
        "rf_pred = RForest.predict_proba(X_val)[:,1]\n",
        "dt_pred = DTree.predict_proba(X_val)[:,1]\n",
        "hgb_pred = HGB.predict_proba(X_val)[:,1]\n",
        "bag_pred = bag.predict_proba(X_val)[:,1]\n",
        "voting_pred = voting.predict_proba(X_val)[:,1]\n",
        "\n",
        "# tfp - taxa de falsos positivos\n",
        "# tvp - taxa de verdadeiros positivos\n",
        "\n",
        "\n",
        "print('ROC AUC score:')\n",
        "dt_tfp, dt_tvp, limite = roc_curve(y_val, dt_pred)\n",
        "print('Decision Tree = \\t', roc_auc_score(y_val, dt_pred))\n",
        "\n",
        "rf_tfp, rf_tvp, limite = roc_curve(y_val, rf_pred)\n",
        "print('Random Forest = \\t', roc_auc_score(y_val, rf_pred))\n",
        "\n",
        "dnn_tfp, dnn_tvp, limite = roc_curve(y_val, dnn_pred)\n",
        "print('DNN = \\t\\t\\t', roc_auc_score(y_val, dnn_pred))\n",
        "\n",
        "hgb_tfp, hgb_tvp, limite = roc_curve(y_val, hgb_pred)\n",
        "print('HGB = \\t\\t\\t', roc_auc_score(y_val, hgb_pred))\n",
        "\n",
        "bag_tfp, bag_tvp, limite = roc_curve(y_val, bag_pred)\n",
        "print('Bagging = \\t\\t', roc_auc_score(y_val, bag_pred))\n",
        "\n",
        "voting_tfp, voting_tvp, limite = roc_curve(y_val, voting_pred)\n",
        "print('Voting (RF+HGB+Bag) =\\t', roc_auc_score(y_val, voting_pred))\n",
        "\n",
        "plt.subplots(1, figsize=(15,5))\n",
        "plt.title('ROC Curve')\n",
        "plt.plot(dt_tfp, dt_tvp)\n",
        "plt.plot(rf_tfp, rf_tvp)\n",
        "plt.plot(dnn_tfp, dnn_tvp)\n",
        "plt.plot(hgb_tfp, hgb_tvp)\n",
        "plt.plot(bag_tfp, bag_tvp)\n",
        "plt.plot(voting_tfp, voting_tvp, color='k')\n",
        "plt.legend([f'Decision Tree - {np.round(roc_auc_score(y_val, dt_pred),4)}',\n",
        "            f'Random Forest - {np.round(roc_auc_score(y_val, rf_pred),4)}',\n",
        "            f'DNN - {np.round(roc_auc_score(y_val, dnn_pred),4)}',\n",
        "            f'HGB - {np.round(roc_auc_score(y_val, hgb_pred),4)}',\n",
        "            f'Bagging - {np.round(roc_auc_score(y_val, bag_pred),4)}',\n",
        "            f'Voting (RF+HGB+Bag) - {np.round(roc_auc_score(y_val, voting_pred),4)}'])\n",
        "plt.xlabel('Specificity')\n",
        "plt.ylabel('Sensibility')\n",
        "plt.plot([0, 1], ls=\"--\", c = 'red') #plotando linha guia pontilhada vermelha\n",
        "plt.plot([0, 0], [1, 0], ls=\"--\", c = 'green'), plt.plot([1, 1], ls=\"--\", c = 'green') #plotando linha guia pontilhada verde\n",
        "plt.xlim(-0.01,0.3)\n",
        "plt.ylim(0.4,1.01)\n",
        "\n",
        "plt.savefig('roc_all_features_upsamp.png')"
      ],
      "metadata": {
        "colab": {
          "base_uri": "https://localhost:8080/",
          "height": 472
        },
        "id": "HPQW4nkyNeRU",
        "outputId": "5ddf7c9c-5d6b-486c-a6c8-45029bbbf48a"
      },
      "execution_count": 79,
      "outputs": [
        {
          "output_type": "stream",
          "name": "stdout",
          "text": [
            "ROC AUC score:\n",
            "Decision Tree = \t 0.8425752519948037\n",
            "Random Forest = \t 0.9314302900688924\n",
            "DNN = \t\t\t 0.9026388975899364\n",
            "HGB = \t\t\t 0.9427785603235701\n",
            "Bagging = \t\t 0.9206232299601014\n",
            "Voting (RF+HGB+Bag) =\t 0.939350716560438\n"
          ]
        },
        {
          "output_type": "display_data",
          "data": {
            "text/plain": [
              "<Figure size 1080x360 with 1 Axes>"
            ],
            "image/png": "[encoded data removed]"
          },
          "metadata": {
            "needs_background": "light"
          }
        }
      ]
    },
    {
      "cell_type": "markdown",
      "source": [
        "# Hyperparameter Optimization\n",
        "\n",
        "Since Voting method achieved the better outcomes, let's try to improve the results of RF, HGB, and Bagging methods even more.  "
      ],
      "metadata": {
        "id": "vm6KvvAMANXx"
      }
    },
    {
      "cell_type": "markdown",
      "source": [
        "## Random Forest - Hyperparameter optmz"
      ],
      "metadata": {
        "id": "qFTgB-gSAmHY"
      }
    },
    {
      "cell_type": "code",
      "source": [
        "from scipy.stats import randint\n",
        "from sklearn.model_selection import RandomizedSearchCV, KFold\n",
        "\n",
        "SEED = 42\n",
        "np.random.seed(SEED)\n",
        "\n",
        "parameter_space = {\n",
        "    'max_depth' : [5, 10, 20, 30, 40, 50, 60, 70, 80, 90, 100, None],\n",
        "    'min_samples_split' : [2, 5, 10], #randint(32,128),\n",
        "    'min_samples_leaf' :  [1, 2, 4],\n",
        "    'bootstrap': [True, False],\n",
        "    'n_estimators': [100, 200, 400, 600, 800, 1000, 1200, 1400, 1600, 1800, 2000],\n",
        "    'max_features': ['auto', 'sqrt'],\n",
        "}\n",
        "\n",
        "\n",
        "busca = RandomizedSearchCV(RandomForestClassifier(),\n",
        "                     parameter_space,\n",
        "                     n_iter = 100,\n",
        "                     cv = KFold(n_splits=5, shuffle=True),\n",
        "                     random_state=SEED)\n",
        "\n",
        "busca.fit(X_train, y_train) #shoul've used train_test one..? \n",
        "\n",
        "results = pd.DataFrame(busca.cv_results_)\n",
        "results.head()"
      ],
      "metadata": {
        "colab": {
          "base_uri": "https://localhost:8080/",
          "height": 531
        },
        "id": "QmkEDGshAku8",
        "outputId": "cada965a-49f4-4c84-ac5c-1e66ceaf3ecb"
      },
      "execution_count": null,
      "outputs": [
        {
          "output_type": "execute_result",
          "data": {
            "text/plain": [
              "   mean_fit_time  std_fit_time  mean_score_time  std_score_time  \\\n",
              "0      12.024703      0.052071         0.596834        0.005974   \n",
              "1      21.958281      0.271479         1.127499        0.020307   \n",
              "2       1.175822      0.014301         0.058013        0.001345   \n",
              "3       3.833079      0.045481         0.164458        0.004150   \n",
              "4      34.267416      0.258404         1.296185        0.010005   \n",
              "\n",
              "  param_n_estimators param_min_samples_split param_min_samples_leaf  \\\n",
              "0                800                       5                      4   \n",
              "1               1400                       5                      2   \n",
              "2                100                       2                      1   \n",
              "3                400                       5                      1   \n",
              "4               1600                      10                      2   \n",
              "\n",
              "  param_max_features param_max_depth param_bootstrap  \\\n",
              "0               sqrt              90            True   \n",
              "1               sqrt              70            True   \n",
              "2               sqrt              10            True   \n",
              "3               sqrt               5           False   \n",
              "4               sqrt              90           False   \n",
              "\n",
              "                                              params  split0_test_score  \\\n",
              "0  {'n_estimators': 800, 'min_samples_split': 5, ...           0.920032   \n",
              "1  {'n_estimators': 1400, 'min_samples_split': 5,...           0.945494   \n",
              "2  {'n_estimators': 100, 'min_samples_split': 2, ...           0.855779   \n",
              "3  {'n_estimators': 400, 'min_samples_split': 5, ...           0.828526   \n",
              "4  {'n_estimators': 1600, 'min_samples_split': 10...           0.951263   \n",
              "\n",
              "   split1_test_score  split2_test_score  split3_test_score  split4_test_score  \\\n",
              "0           0.924010           0.928969           0.919817           0.920414   \n",
              "1           0.950070           0.950856           0.946080           0.946876   \n",
              "2           0.872886           0.877039           0.863908           0.861520   \n",
              "3           0.840660           0.848189           0.834063           0.827696   \n",
              "4           0.956236           0.956427           0.952447           0.950657   \n",
              "\n",
              "   mean_test_score  std_test_score  rank_test_score  \n",
              "0         0.922648        0.003512               71  \n",
              "1         0.947875        0.002172               36  \n",
              "2         0.866226        0.007720               83  \n",
              "3         0.835827        0.007729               97  \n",
              "4         0.953406        0.002458               27  "
            ],
            "text/html": [
              "\n",
              "  <div id=\"df-a86dc0be-68f4-4d0d-a092-1e6605a55271\">\n",
              "    <div class=\"colab-df-container\">\n",
              "      <div>\n",
              "<style scoped>\n",
              "    .dataframe tbody tr th:only-of-type {\n",
              "        vertical-align: middle;\n",
              "    }\n",
              "\n",
              "    .dataframe tbody tr th {\n",
              "        vertical-align: top;\n",
              "    }\n",
              "\n",
              "    .dataframe thead th {\n",
              "        text-align: right;\n",
              "    }\n",
              "</style>\n",
              "<table border=\"1\" class=\"dataframe\">\n",
              "  <thead>\n",
              "    <tr style=\"text-align: right;\">\n",
              "      <th></th>\n",
              "      <th>mean_fit_time</th>\n",
              "      <th>std_fit_time</th>\n",
              "      <th>mean_score_time</th>\n",
              "      <th>std_score_time</th>\n",
              "      <th>param_n_estimators</th>\n",
              "      <th>param_min_samples_split</th>\n",
              "      <th>param_min_samples_leaf</th>\n",
              "      <th>param_max_features</th>\n",
              "      <th>param_max_depth</th>\n",
              "      <th>param_bootstrap</th>\n",
              "      <th>params</th>\n",
              "      <th>split0_test_score</th>\n",
              "      <th>split1_test_score</th>\n",
              "      <th>split2_test_score</th>\n",
              "      <th>split3_test_score</th>\n",
              "      <th>split4_test_score</th>\n",
              "      <th>mean_test_score</th>\n",
              "      <th>std_test_score</th>\n",
              "      <th>rank_test_score</th>\n",
              "    </tr>\n",
              "  </thead>\n",
              "  <tbody>\n",
              "    <tr>\n",
              "      <th>0</th>\n",
              "      <td>12.024703</td>\n",
              "      <td>0.052071</td>\n",
              "      <td>0.596834</td>\n",
              "      <td>0.005974</td>\n",
              "      <td>800</td>\n",
              "      <td>5</td>\n",
              "      <td>4</td>\n",
              "      <td>sqrt</td>\n",
              "      <td>90</td>\n",
              "      <td>True</td>\n",
              "      <td>{'n_estimators': 800, 'min_samples_split': 5, ...</td>\n",
              "      <td>0.920032</td>\n",
              "      <td>0.924010</td>\n",
              "      <td>0.928969</td>\n",
              "      <td>0.919817</td>\n",
              "      <td>0.920414</td>\n",
              "      <td>0.922648</td>\n",
              "      <td>0.003512</td>\n",
              "      <td>71</td>\n",
              "    </tr>\n",
              "    <tr>\n",
              "      <th>1</th>\n",
              "      <td>21.958281</td>\n",
              "      <td>0.271479</td>\n",
              "      <td>1.127499</td>\n",
              "      <td>0.020307</td>\n",
              "      <td>1400</td>\n",
              "      <td>5</td>\n",
              "      <td>2</td>\n",
              "      <td>sqrt</td>\n",
              "      <td>70</td>\n",
              "      <td>True</td>\n",
              "      <td>{'n_estimators': 1400, 'min_samples_split': 5,...</td>\n",
              "      <td>0.945494</td>\n",
              "      <td>0.950070</td>\n",
              "      <td>0.950856</td>\n",
              "      <td>0.946080</td>\n",
              "      <td>0.946876</td>\n",
              "      <td>0.947875</td>\n",
              "      <td>0.002172</td>\n",
              "      <td>36</td>\n",
              "    </tr>\n",
              "    <tr>\n",
              "      <th>2</th>\n",
              "      <td>1.175822</td>\n",
              "      <td>0.014301</td>\n",
              "      <td>0.058013</td>\n",
              "      <td>0.001345</td>\n",
              "      <td>100</td>\n",
              "      <td>2</td>\n",
              "      <td>1</td>\n",
              "      <td>sqrt</td>\n",
              "      <td>10</td>\n",
              "      <td>True</td>\n",
              "      <td>{'n_estimators': 100, 'min_samples_split': 2, ...</td>\n",
              "      <td>0.855779</td>\n",
              "      <td>0.872886</td>\n",
              "      <td>0.877039</td>\n",
              "      <td>0.863908</td>\n",
              "      <td>0.861520</td>\n",
              "      <td>0.866226</td>\n",
              "      <td>0.007720</td>\n",
              "      <td>83</td>\n",
              "    </tr>\n",
              "    <tr>\n",
              "      <th>3</th>\n",
              "      <td>3.833079</td>\n",
              "      <td>0.045481</td>\n",
              "      <td>0.164458</td>\n",
              "      <td>0.004150</td>\n",
              "      <td>400</td>\n",
              "      <td>5</td>\n",
              "      <td>1</td>\n",
              "      <td>sqrt</td>\n",
              "      <td>5</td>\n",
              "      <td>False</td>\n",
              "      <td>{'n_estimators': 400, 'min_samples_split': 5, ...</td>\n",
              "      <td>0.828526</td>\n",
              "      <td>0.840660</td>\n",
              "      <td>0.848189</td>\n",
              "      <td>0.834063</td>\n",
              "      <td>0.827696</td>\n",
              "      <td>0.835827</td>\n",
              "      <td>0.007729</td>\n",
              "      <td>97</td>\n",
              "    </tr>\n",
              "    <tr>\n",
              "      <th>4</th>\n",
              "      <td>34.267416</td>\n",
              "      <td>0.258404</td>\n",
              "      <td>1.296185</td>\n",
              "      <td>0.010005</td>\n",
              "      <td>1600</td>\n",
              "      <td>10</td>\n",
              "      <td>2</td>\n",
              "      <td>sqrt</td>\n",
              "      <td>90</td>\n",
              "      <td>False</td>\n",
              "      <td>{'n_estimators': 1600, 'min_samples_split': 10...</td>\n",
              "      <td>0.951263</td>\n",
              "      <td>0.956236</td>\n",
              "      <td>0.956427</td>\n",
              "      <td>0.952447</td>\n",
              "      <td>0.950657</td>\n",
              "      <td>0.953406</td>\n",
              "      <td>0.002458</td>\n",
              "      <td>27</td>\n",
              "    </tr>\n",
              "  </tbody>\n",
              "</table>\n",
              "</div>\n",
              "      <button class=\"colab-df-convert\" onclick=\"convertToInteractive('df-a86dc0be-68f4-4d0d-a092-1e6605a55271')\"\n",
              "              title=\"Convert this dataframe to an interactive table.\"\n",
              "              style=\"display:none;\">\n",
              "        \n",
              "  <svg xmlns=\"http://www.w3.org/2000/svg\" height=\"24px\"viewBox=\"0 0 24 24\"\n",
              "       width=\"24px\">\n",
              "    <path d=\"M0 0h24v24H0V0z\" fill=\"none\"/>\n",
              "    <path d=\"M18.56 5.44l.94 2.06.94-2.06 2.06-.94-2.06-.94-.94-2.06-.94 2.06-2.06.94zm-11 1L8.5 8.5l.94-2.06 2.06-.94-2.06-.94L8.5 2.5l-.94 2.06-2.06.94zm10 10l.94 2.06.94-2.06 2.06-.94-2.06-.94-.94-2.06-.94 2.06-2.06.94z\"/><path d=\"M17.41 7.96l-1.37-1.37c-.4-.4-.92-.59-1.43-.59-.52 0-1.04.2-1.43.59L10.3 9.45l-7.72 7.72c-.78.78-.78 2.05 0 2.83L4 21.41c.39.39.9.59 1.41.59.51 0 1.02-.2 1.41-.59l7.78-7.78 2.81-2.81c.8-.78.8-2.07 0-2.86zM5.41 20L4 18.59l7.72-7.72 1.47 1.35L5.41 20z\"/>\n",
              "  </svg>\n",
              "      </button>\n",
              "      \n",
              "  <style>\n",
              "    .colab-df-container {\n",
              "      display:flex;\n",
              "      flex-wrap:wrap;\n",
              "      gap: 12px;\n",
              "    }\n",
              "\n",
              "    .colab-df-convert {\n",
              "      background-color: #E8F0FE;\n",
              "      border: none;\n",
              "      border-radius: 50%;\n",
              "      cursor: pointer;\n",
              "      display: none;\n",
              "      fill: #1967D2;\n",
              "      height: 32px;\n",
              "      padding: 0 0 0 0;\n",
              "      width: 32px;\n",
              "    }\n",
              "\n",
              "    .colab-df-convert:hover {\n",
              "      background-color: #E2EBFA;\n",
              "      box-shadow: 0px 1px 2px rgba(60, 64, 67, 0.3), 0px 1px 3px 1px rgba(60, 64, 67, 0.15);\n",
              "      fill: #174EA6;\n",
              "    }\n",
              "\n",
              "    [theme=dark] .colab-df-convert {\n",
              "      background-color: #3B4455;\n",
              "      fill: #D2E3FC;\n",
              "    }\n",
              "\n",
              "    [theme=dark] .colab-df-convert:hover {\n",
              "      background-color: #434B5C;\n",
              "      box-shadow: 0px 1px 3px 1px rgba(0, 0, 0, 0.15);\n",
              "      filter: drop-shadow(0px 1px 2px rgba(0, 0, 0, 0.3));\n",
              "      fill: #FFFFFF;\n",
              "    }\n",
              "  </style>\n",
              "\n",
              "      <script>\n",
              "        const buttonEl =\n",
              "          document.querySelector('#df-a86dc0be-68f4-4d0d-a092-1e6605a55271 button.colab-df-convert');\n",
              "        buttonEl.style.display =\n",
              "          google.colab.kernel.accessAllowed ? 'block' : 'none';\n",
              "\n",
              "        async function convertToInteractive(key) {\n",
              "          const element = document.querySelector('#df-a86dc0be-68f4-4d0d-a092-1e6605a55271');\n",
              "          const dataTable =\n",
              "            await google.colab.kernel.invokeFunction('convertToInteractive',\n",
              "                                                     [key], {});\n",
              "          if (!dataTable) return;\n",
              "\n",
              "          const docLinkHtml = 'Like what you see? Visit the ' +\n",
              "            '<a target=\"_blank\" href=https://colab.research.google.com/notebooks/data_table.ipynb>data table notebook</a>'\n",
              "            + ' to learn more about interactive tables.';\n",
              "          element.innerHTML = '';\n",
              "          dataTable['output_type'] = 'display_data';\n",
              "          await google.colab.output.renderOutput(dataTable, element);\n",
              "          const docLink = document.createElement('div');\n",
              "          docLink.innerHTML = docLinkHtml;\n",
              "          element.appendChild(docLink);\n",
              "        }\n",
              "      </script>\n",
              "    </div>\n",
              "  </div>\n",
              "  "
            ]
          },
          "metadata": {},
          "execution_count": 420
        }
      ]
    },
    {
      "cell_type": "code",
      "source": [
        "busca.best_params_"
      ],
      "metadata": {
        "colab": {
          "base_uri": "https://localhost:8080/"
        },
        "id": "SbeGNlTGp4aq",
        "outputId": "632ac65a-3edc-44a7-d47b-51446d186781"
      },
      "execution_count": null,
      "outputs": [
        {
          "output_type": "execute_result",
          "data": {
            "text/plain": [
              "{'n_estimators': 1800,\n",
              " 'min_samples_split': 2,\n",
              " 'min_samples_leaf': 1,\n",
              " 'max_features': 'auto',\n",
              " 'max_depth': 60,\n",
              " 'bootstrap': False}"
            ]
          },
          "metadata": {},
          "execution_count": 424
        }
      ]
    },
    {
      "cell_type": "code",
      "source": [
        "resultados_ordenados_pela_media = results.sort_values(\"mean_test_score\", ascending=False)\n",
        "for indice, linha in resultados_ordenados_pela_media[:5].iterrows():\n",
        "  print(\"%.3f +-(%.3f) %s\" % (linha.mean_test_score, linha.std_test_score*2, linha.params))"
      ],
      "metadata": {
        "colab": {
          "base_uri": "https://localhost:8080/"
        },
        "id": "sMK23D-hrHaF",
        "outputId": "ef83adb4-7f80-4701-940d-a4648841a79a"
      },
      "execution_count": null,
      "outputs": [
        {
          "output_type": "stream",
          "name": "stdout",
          "text": [
            "0.972 +-(0.005) {'n_estimators': 1800, 'min_samples_split': 2, 'min_samples_leaf': 1, 'max_features': 'auto', 'max_depth': 60, 'bootstrap': False}\n",
            "0.972 +-(0.004) {'n_estimators': 800, 'min_samples_split': 2, 'min_samples_leaf': 1, 'max_features': 'auto', 'max_depth': 30, 'bootstrap': False}\n",
            "0.972 +-(0.004) {'n_estimators': 400, 'min_samples_split': 2, 'min_samples_leaf': 1, 'max_features': 'sqrt', 'max_depth': 50, 'bootstrap': False}\n",
            "0.972 +-(0.005) {'n_estimators': 600, 'min_samples_split': 2, 'min_samples_leaf': 1, 'max_features': 'sqrt', 'max_depth': 70, 'bootstrap': False}\n",
            "0.972 +-(0.004) {'n_estimators': 600, 'min_samples_split': 5, 'min_samples_leaf': 1, 'max_features': 'auto', 'max_depth': 50, 'bootstrap': False}\n"
          ]
        }
      ]
    },
    {
      "cell_type": "code",
      "source": [
        "from sklearn.ensemble import RandomForestClassifier\n",
        "from sklearn.model_selection import cross_validate, KFold\n",
        "\n",
        "SEED = 42\n",
        "np.random.seed(SEED)\n",
        "# RForest_opt = busca.best_estimator_\n",
        "RForest_opt = RandomForestClassifier(n_estimators=800, \n",
        "                                     min_samples_split=2, \n",
        "                                     min_samples_leaf=1,\n",
        "                                     max_features='auto',\n",
        "                                     max_depth=30,\n",
        "                                     bootstrap=False)\n",
        "\n",
        "cv=KFold(n_splits=5, shuffle=True) # usa shuffle TRUE pra embaralhar os dados antes de dividir em pedaços qdo não for time series\n",
        "\n",
        "\n",
        "results = cross_validate(RForest_opt, X_train_test_norm, y_train_test, cv = cv, return_train_score=False) # CV número de partes em que vai dividir\n",
        "\n",
        "mean = results['test_score'].mean()\n",
        "std = results['test_score'].std()\n",
        "\n",
        "# media +- 2*std =  95% de confiança\n",
        "\n",
        "print(\"Accuracy with cross validation, 5 folds:\\n\")\n",
        "print('Mean Accuracy: ', np.round((mean)*100,2),'%')\n",
        "print('STD: ', np.round(std,4))\n",
        "print('Interval with 95%% of confidence [%.2f, %.2f]' % ((mean - 2 *std) * 100, (mean + 2 * std) * 100))"
      ],
      "metadata": {
        "colab": {
          "base_uri": "https://localhost:8080/"
        },
        "id": "2aOpDx-Dqi5u",
        "outputId": "ce912a95-c29a-4ed7-d8b5-fb1ba4f45247"
      },
      "execution_count": 50,
      "outputs": [
        {
          "output_type": "stream",
          "name": "stdout",
          "text": [
            "Accuracy with cross validation, 5 folds:\n",
            "\n",
            "Mean Accuracy:  98.76 %\n",
            "STD:  0.0012\n",
            "Interval with 95% of confidence [98.53, 99.00]\n"
          ]
        }
      ]
    },
    {
      "cell_type": "code",
      "source": [
        "from sklearn.metrics import confusion_matrix, ConfusionMatrixDisplay\n",
        "\n",
        "RForest_opt.fit(X_train,y_train)\n",
        "RForest_opt_pred = RForest_opt.predict(X_test)\n",
        "RForest_opt_pred2 = RForest_opt.predict(X_val)\n",
        "\n",
        "cm = confusion_matrix(y_test, RForest_opt_pred, labels=RForest_opt.classes_)\n",
        "cm2 = confusion_matrix(y_val, RForest_opt_pred2, labels=RForest_opt.classes_)\n",
        "\n",
        "\n",
        "disp = ConfusionMatrixDisplay(confusion_matrix=cm,\n",
        "                               display_labels=RForest_opt.classes_)\n",
        "disp2 = ConfusionMatrixDisplay(confusion_matrix=cm2,\n",
        "                               display_labels=RForest_opt.classes_)\n",
        "disp.plot()\n",
        "disp2.plot()\n",
        "plt.show()"
      ],
      "metadata": {
        "colab": {
          "base_uri": "https://localhost:8080/",
          "height": 541
        },
        "id": "697CUQvjsIHg",
        "outputId": "b1e720ea-5ec8-45f8-de1e-cc7853dc04c8"
      },
      "execution_count": 51,
      "outputs": [
        {
          "output_type": "display_data",
          "data": {
            "text/plain": [
              "<Figure size 432x288 with 2 Axes>"
            ],
            "image/png": "[encoded data removed]"
          },
          "metadata": {
            "needs_background": "light"
          }
        },
        {
          "output_type": "display_data",
          "data": {
            "text/plain": [
              "<Figure size 432x288 with 2 Axes>"
            ],
            "image/png": "[encoded data removed]"
          },
          "metadata": {
            "needs_background": "light"
          }
        }
      ]
    },
    {
      "cell_type": "code",
      "source": [
        "from sklearn.metrics import classification_report\n",
        "\n",
        "print(classification_report(y_test,RForest_opt_pred))"
      ],
      "metadata": {
        "colab": {
          "base_uri": "https://localhost:8080/"
        },
        "id": "9UHsi56hsPv2",
        "outputId": "ab7452bd-f3f6-4895-d403-75cbe9da4209"
      },
      "execution_count": null,
      "outputs": [
        {
          "output_type": "stream",
          "name": "stdout",
          "text": [
            "              precision    recall  f1-score   support\n",
            "\n",
            "         0.0       0.98      0.99      0.98      5386\n",
            "         1.0       0.99      0.98      0.98      5386\n",
            "\n",
            "    accuracy                           0.98     10772\n",
            "   macro avg       0.98      0.98      0.98     10772\n",
            "weighted avg       0.98      0.98      0.98     10772\n",
            "\n"
          ]
        }
      ]
    },
    {
      "cell_type": "markdown",
      "source": [
        "## HGB"
      ],
      "metadata": {
        "id": "L3Rnlsy5vVSA"
      }
    },
    {
      "cell_type": "code",
      "source": [
        "from scipy.stats import randint\n",
        "from sklearn.model_selection import RandomizedSearchCV, KFold\n",
        "\n",
        "SEED = 42\n",
        "np.random.seed(SEED)\n",
        "\n",
        "parameter_space = {\n",
        "    'max_depth' : [5, 10, 20, 30, 40, 50, 60, 70, 80, 90, 100, None],\n",
        "    'max_bins' : [128, 214, 255], #randint(32,128),\n",
        "    'max_leaf_nodes' :  randint(2,40),\n",
        "    'learning_rate': [0.05, 0.1, 0.2, 0.4, 0.6, 0.8, 1],\n",
        "    'min_samples_leaf' : randint(2,20),\n",
        "    'max_iter': [100, 150, 200]\n",
        "}\n",
        "\n",
        "\n",
        "busca = RandomizedSearchCV(HistGradientBoostingClassifier(),\n",
        "                     parameter_space,\n",
        "                     n_iter = 500,\n",
        "                     cv = KFold(n_splits=5, shuffle=True),\n",
        "                     random_state=SEED)\n",
        "\n",
        "busca.fit(X_train_test_norm, y_train_test) #shoul've used train_test one..? \n",
        "\n",
        "results = pd.DataFrame(busca.cv_results_)\n",
        "results.head()"
      ],
      "metadata": {
        "colab": {
          "base_uri": "https://localhost:8080/",
          "height": 531
        },
        "id": "BQyzk1aivYDR",
        "outputId": "90748a17-250f-4222-de77-240f1910deea"
      },
      "execution_count": null,
      "outputs": [
        {
          "output_type": "execute_result",
          "data": {
            "text/plain": [
              "   mean_fit_time  std_fit_time  mean_score_time  std_score_time  \\\n",
              "0       0.196306      0.040125         0.009138        0.001516   \n",
              "1       1.654412      1.099227         0.059662        0.002617   \n",
              "2       1.028520      0.016548         0.050155        0.005364   \n",
              "3       0.318320      0.060104         0.013986        0.002434   \n",
              "4       0.795542      0.013171         0.039915        0.001751   \n",
              "\n",
              "  param_learning_rate param_max_bins param_max_depth param_max_iter  \\\n",
              "0                   1            128             100            100   \n",
              "1                 0.1            255              60            200   \n",
              "2                 0.2            214              40            150   \n",
              "3                 0.8            214              10            100   \n",
              "4                 0.1            214            None            100   \n",
              "\n",
              "  param_max_leaf_nodes param_min_samples_leaf  \\\n",
              "0                   22                      8   \n",
              "1                   12                      5   \n",
              "2                   25                     13   \n",
              "3                   34                     13   \n",
              "4                   28                     11   \n",
              "\n",
              "                                              params  split0_test_score  \\\n",
              "0  {'learning_rate': 1, 'max_bins': 128, 'max_dep...           0.875366   \n",
              "1  {'learning_rate': 0.1, 'max_bins': 255, 'max_d...           0.879404   \n",
              "2  {'learning_rate': 0.2, 'max_bins': 214, 'max_d...           0.928144   \n",
              "3  {'learning_rate': 0.8, 'max_bins': 214, 'max_d...           0.931068   \n",
              "4  {'learning_rate': 0.1, 'max_bins': 214, 'max_d...           0.885392   \n",
              "\n",
              "   split1_test_score  split2_test_score  split3_test_score  split4_test_score  \\\n",
              "0           0.881214           0.893469           0.889987           0.883844   \n",
              "1           0.893051           0.880240           0.885810           0.881755   \n",
              "2           0.934689           0.931207           0.933714           0.932451   \n",
              "3           0.917839           0.899596           0.917699           0.915320   \n",
              "4           0.900989           0.888456           0.897786           0.892479   \n",
              "\n",
              "   mean_test_score  std_test_score  rank_test_score  \n",
              "0         0.884776        0.006401              332  \n",
              "1         0.884052        0.005010              340  \n",
              "2         0.932041        0.002274               96  \n",
              "3         0.916305        0.010024              152  \n",
              "4         0.893020        0.005754              251  "
            ],
            "text/html": [
              "\n",
              "  <div id=\"df-1b8dd55c-9b70-4464-b3c5-bcd1430a13fa\">\n",
              "    <div class=\"colab-df-container\">\n",
              "      <div>\n",
              "<style scoped>\n",
              "    .dataframe tbody tr th:only-of-type {\n",
              "        vertical-align: middle;\n",
              "    }\n",
              "\n",
              "    .dataframe tbody tr th {\n",
              "        vertical-align: top;\n",
              "    }\n",
              "\n",
              "    .dataframe thead th {\n",
              "        text-align: right;\n",
              "    }\n",
              "</style>\n",
              "<table border=\"1\" class=\"dataframe\">\n",
              "  <thead>\n",
              "    <tr style=\"text-align: right;\">\n",
              "      <th></th>\n",
              "      <th>mean_fit_time</th>\n",
              "      <th>std_fit_time</th>\n",
              "      <th>mean_score_time</th>\n",
              "      <th>std_score_time</th>\n",
              "      <th>param_learning_rate</th>\n",
              "      <th>param_max_bins</th>\n",
              "      <th>param_max_depth</th>\n",
              "      <th>param_max_iter</th>\n",
              "      <th>param_max_leaf_nodes</th>\n",
              "      <th>param_min_samples_leaf</th>\n",
              "      <th>params</th>\n",
              "      <th>split0_test_score</th>\n",
              "      <th>split1_test_score</th>\n",
              "      <th>split2_test_score</th>\n",
              "      <th>split3_test_score</th>\n",
              "      <th>split4_test_score</th>\n",
              "      <th>mean_test_score</th>\n",
              "      <th>std_test_score</th>\n",
              "      <th>rank_test_score</th>\n",
              "    </tr>\n",
              "  </thead>\n",
              "  <tbody>\n",
              "    <tr>\n",
              "      <th>0</th>\n",
              "      <td>0.196306</td>\n",
              "      <td>0.040125</td>\n",
              "      <td>0.009138</td>\n",
              "      <td>0.001516</td>\n",
              "      <td>1</td>\n",
              "      <td>128</td>\n",
              "      <td>100</td>\n",
              "      <td>100</td>\n",
              "      <td>22</td>\n",
              "      <td>8</td>\n",
              "      <td>{'learning_rate': 1, 'max_bins': 128, 'max_dep...</td>\n",
              "      <td>0.875366</td>\n",
              "      <td>0.881214</td>\n",
              "      <td>0.893469</td>\n",
              "      <td>0.889987</td>\n",
              "      <td>0.883844</td>\n",
              "      <td>0.884776</td>\n",
              "      <td>0.006401</td>\n",
              "      <td>332</td>\n",
              "    </tr>\n",
              "    <tr>\n",
              "      <th>1</th>\n",
              "      <td>1.654412</td>\n",
              "      <td>1.099227</td>\n",
              "      <td>0.059662</td>\n",
              "      <td>0.002617</td>\n",
              "      <td>0.1</td>\n",
              "      <td>255</td>\n",
              "      <td>60</td>\n",
              "      <td>200</td>\n",
              "      <td>12</td>\n",
              "      <td>5</td>\n",
              "      <td>{'learning_rate': 0.1, 'max_bins': 255, 'max_d...</td>\n",
              "      <td>0.879404</td>\n",
              "      <td>0.893051</td>\n",
              "      <td>0.880240</td>\n",
              "      <td>0.885810</td>\n",
              "      <td>0.881755</td>\n",
              "      <td>0.884052</td>\n",
              "      <td>0.005010</td>\n",
              "      <td>340</td>\n",
              "    </tr>\n",
              "    <tr>\n",
              "      <th>2</th>\n",
              "      <td>1.028520</td>\n",
              "      <td>0.016548</td>\n",
              "      <td>0.050155</td>\n",
              "      <td>0.005364</td>\n",
              "      <td>0.2</td>\n",
              "      <td>214</td>\n",
              "      <td>40</td>\n",
              "      <td>150</td>\n",
              "      <td>25</td>\n",
              "      <td>13</td>\n",
              "      <td>{'learning_rate': 0.2, 'max_bins': 214, 'max_d...</td>\n",
              "      <td>0.928144</td>\n",
              "      <td>0.934689</td>\n",
              "      <td>0.931207</td>\n",
              "      <td>0.933714</td>\n",
              "      <td>0.932451</td>\n",
              "      <td>0.932041</td>\n",
              "      <td>0.002274</td>\n",
              "      <td>96</td>\n",
              "    </tr>\n",
              "    <tr>\n",
              "      <th>3</th>\n",
              "      <td>0.318320</td>\n",
              "      <td>0.060104</td>\n",
              "      <td>0.013986</td>\n",
              "      <td>0.002434</td>\n",
              "      <td>0.8</td>\n",
              "      <td>214</td>\n",
              "      <td>10</td>\n",
              "      <td>100</td>\n",
              "      <td>34</td>\n",
              "      <td>13</td>\n",
              "      <td>{'learning_rate': 0.8, 'max_bins': 214, 'max_d...</td>\n",
              "      <td>0.931068</td>\n",
              "      <td>0.917839</td>\n",
              "      <td>0.899596</td>\n",
              "      <td>0.917699</td>\n",
              "      <td>0.915320</td>\n",
              "      <td>0.916305</td>\n",
              "      <td>0.010024</td>\n",
              "      <td>152</td>\n",
              "    </tr>\n",
              "    <tr>\n",
              "      <th>4</th>\n",
              "      <td>0.795542</td>\n",
              "      <td>0.013171</td>\n",
              "      <td>0.039915</td>\n",
              "      <td>0.001751</td>\n",
              "      <td>0.1</td>\n",
              "      <td>214</td>\n",
              "      <td>None</td>\n",
              "      <td>100</td>\n",
              "      <td>28</td>\n",
              "      <td>11</td>\n",
              "      <td>{'learning_rate': 0.1, 'max_bins': 214, 'max_d...</td>\n",
              "      <td>0.885392</td>\n",
              "      <td>0.900989</td>\n",
              "      <td>0.888456</td>\n",
              "      <td>0.897786</td>\n",
              "      <td>0.892479</td>\n",
              "      <td>0.893020</td>\n",
              "      <td>0.005754</td>\n",
              "      <td>251</td>\n",
              "    </tr>\n",
              "  </tbody>\n",
              "</table>\n",
              "</div>\n",
              "      <button class=\"colab-df-convert\" onclick=\"convertToInteractive('df-1b8dd55c-9b70-4464-b3c5-bcd1430a13fa')\"\n",
              "              title=\"Convert this dataframe to an interactive table.\"\n",
              "              style=\"display:none;\">\n",
              "        \n",
              "  <svg xmlns=\"http://www.w3.org/2000/svg\" height=\"24px\"viewBox=\"0 0 24 24\"\n",
              "       width=\"24px\">\n",
              "    <path d=\"M0 0h24v24H0V0z\" fill=\"none\"/>\n",
              "    <path d=\"M18.56 5.44l.94 2.06.94-2.06 2.06-.94-2.06-.94-.94-2.06-.94 2.06-2.06.94zm-11 1L8.5 8.5l.94-2.06 2.06-.94-2.06-.94L8.5 2.5l-.94 2.06-2.06.94zm10 10l.94 2.06.94-2.06 2.06-.94-2.06-.94-.94-2.06-.94 2.06-2.06.94z\"/><path d=\"M17.41 7.96l-1.37-1.37c-.4-.4-.92-.59-1.43-.59-.52 0-1.04.2-1.43.59L10.3 9.45l-7.72 7.72c-.78.78-.78 2.05 0 2.83L4 21.41c.39.39.9.59 1.41.59.51 0 1.02-.2 1.41-.59l7.78-7.78 2.81-2.81c.8-.78.8-2.07 0-2.86zM5.41 20L4 18.59l7.72-7.72 1.47 1.35L5.41 20z\"/>\n",
              "  </svg>\n",
              "      </button>\n",
              "      \n",
              "  <style>\n",
              "    .colab-df-container {\n",
              "      display:flex;\n",
              "      flex-wrap:wrap;\n",
              "      gap: 12px;\n",
              "    }\n",
              "\n",
              "    .colab-df-convert {\n",
              "      background-color: #E8F0FE;\n",
              "      border: none;\n",
              "      border-radius: 50%;\n",
              "      cursor: pointer;\n",
              "      display: none;\n",
              "      fill: #1967D2;\n",
              "      height: 32px;\n",
              "      padding: 0 0 0 0;\n",
              "      width: 32px;\n",
              "    }\n",
              "\n",
              "    .colab-df-convert:hover {\n",
              "      background-color: #E2EBFA;\n",
              "      box-shadow: 0px 1px 2px rgba(60, 64, 67, 0.3), 0px 1px 3px 1px rgba(60, 64, 67, 0.15);\n",
              "      fill: #174EA6;\n",
              "    }\n",
              "\n",
              "    [theme=dark] .colab-df-convert {\n",
              "      background-color: #3B4455;\n",
              "      fill: #D2E3FC;\n",
              "    }\n",
              "\n",
              "    [theme=dark] .colab-df-convert:hover {\n",
              "      background-color: #434B5C;\n",
              "      box-shadow: 0px 1px 3px 1px rgba(0, 0, 0, 0.15);\n",
              "      filter: drop-shadow(0px 1px 2px rgba(0, 0, 0, 0.3));\n",
              "      fill: #FFFFFF;\n",
              "    }\n",
              "  </style>\n",
              "\n",
              "      <script>\n",
              "        const buttonEl =\n",
              "          document.querySelector('#df-1b8dd55c-9b70-4464-b3c5-bcd1430a13fa button.colab-df-convert');\n",
              "        buttonEl.style.display =\n",
              "          google.colab.kernel.accessAllowed ? 'block' : 'none';\n",
              "\n",
              "        async function convertToInteractive(key) {\n",
              "          const element = document.querySelector('#df-1b8dd55c-9b70-4464-b3c5-bcd1430a13fa');\n",
              "          const dataTable =\n",
              "            await google.colab.kernel.invokeFunction('convertToInteractive',\n",
              "                                                     [key], {});\n",
              "          if (!dataTable) return;\n",
              "\n",
              "          const docLinkHtml = 'Like what you see? Visit the ' +\n",
              "            '<a target=\"_blank\" href=https://colab.research.google.com/notebooks/data_table.ipynb>data table notebook</a>'\n",
              "            + ' to learn more about interactive tables.';\n",
              "          element.innerHTML = '';\n",
              "          dataTable['output_type'] = 'display_data';\n",
              "          await google.colab.output.renderOutput(dataTable, element);\n",
              "          const docLink = document.createElement('div');\n",
              "          docLink.innerHTML = docLinkHtml;\n",
              "          element.appendChild(docLink);\n",
              "        }\n",
              "      </script>\n",
              "    </div>\n",
              "  </div>\n",
              "  "
            ]
          },
          "metadata": {},
          "execution_count": 436
        }
      ]
    },
    {
      "cell_type": "code",
      "source": [
        "busca.best_params_"
      ],
      "metadata": {
        "colab": {
          "base_uri": "https://localhost:8080/"
        },
        "id": "2i_M5FS-yChs",
        "outputId": "9c9786af-251f-422c-8560-53d4c4b7feeb"
      },
      "execution_count": null,
      "outputs": [
        {
          "output_type": "execute_result",
          "data": {
            "text/plain": [
              "{'learning_rate': 0.4,\n",
              " 'max_bins': 214,\n",
              " 'max_depth': 10,\n",
              " 'max_iter': 200,\n",
              " 'max_leaf_nodes': 38,\n",
              " 'min_samples_leaf': 6}"
            ]
          },
          "metadata": {},
          "execution_count": 437
        }
      ]
    },
    {
      "cell_type": "code",
      "source": [
        "resultados_ordenados_pela_media = results.sort_values(\"mean_test_score\", ascending=False)\n",
        "for indice, linha in resultados_ordenados_pela_media[:5].iterrows():\n",
        "  print(\"%.3f +-(%.3f) %s\" % (linha.mean_test_score, linha.std_test_score*2, linha.params))"
      ],
      "metadata": {
        "colab": {
          "base_uri": "https://localhost:8080/"
        },
        "id": "vZAd087lyFkQ",
        "outputId": "e1ba8e96-4435-4ec4-80e9-0dae6706dfbb"
      },
      "execution_count": null,
      "outputs": [
        {
          "output_type": "stream",
          "name": "stdout",
          "text": [
            "0.973 +-(0.005) {'learning_rate': 0.4, 'max_bins': 214, 'max_depth': 10, 'max_iter': 200, 'max_leaf_nodes': 38, 'min_samples_leaf': 6}\n",
            "0.972 +-(0.007) {'learning_rate': 0.4, 'max_bins': 214, 'max_depth': 50, 'max_iter': 200, 'max_leaf_nodes': 38, 'min_samples_leaf': 2}\n",
            "0.971 +-(0.003) {'learning_rate': 0.6, 'max_bins': 214, 'max_depth': 40, 'max_iter': 200, 'max_leaf_nodes': 37, 'min_samples_leaf': 16}\n",
            "0.971 +-(0.004) {'learning_rate': 0.4, 'max_bins': 255, 'max_depth': 40, 'max_iter': 200, 'max_leaf_nodes': 32, 'min_samples_leaf': 11}\n",
            "0.969 +-(0.004) {'learning_rate': 0.4, 'max_bins': 214, 'max_depth': 20, 'max_iter': 150, 'max_leaf_nodes': 39, 'min_samples_leaf': 11}\n"
          ]
        }
      ]
    },
    {
      "cell_type": "code",
      "source": [
        "from sklearn.ensemble import HistGradientBoostingClassifier\n",
        "from sklearn.model_selection import cross_validate, KFold\n",
        "\n",
        "SEED = 42\n",
        "np.random.seed(SEED)\n",
        "# HGB_opt = busca.best_estimator_\n",
        "HGB_opt = HistGradientBoostingClassifier(learning_rate=0.4,\n",
        "                                         max_bins=214,\n",
        "                                         max_depth=10,\n",
        "                                         max_iter=200,\n",
        "                                         max_leaf_nodes=38,\n",
        "                                         min_samples_leaf=6)\n",
        "\n",
        "cv=KFold(n_splits=5, shuffle=True) # usa shuffle TRUE pra embaralhar os dados antes de dividir em pedaços qdo não for time series\n",
        "\n",
        "\n",
        "results = cross_validate(HGB_opt, X_train_test_norm, y_train_test, cv = cv, return_train_score=False) # CV número de partes em que vai dividir\n",
        "\n",
        "mean = results['test_score'].mean()\n",
        "std = results['test_score'].std()\n",
        "\n",
        "# media +- 2*std =  95% de confiança\n",
        "\n",
        "print(\"Accuracy with cross validation, 5 folds:\\n\")\n",
        "print('Mean Accuracy: ', np.round((mean)*100,2),'%')\n",
        "print('STD: ', np.round(std,4))\n",
        "print('Interval with 95%% of confidence [%.2f, %.2f]' % ((mean - 2 *std) * 100, (mean + 2 * std) * 100))"
      ],
      "metadata": {
        "colab": {
          "base_uri": "https://localhost:8080/"
        },
        "id": "XAhCLRbLNJ67",
        "outputId": "fada1ed2-906c-4646-dd78-af8b82dec305"
      },
      "execution_count": 53,
      "outputs": [
        {
          "output_type": "stream",
          "name": "stdout",
          "text": [
            "Accuracy with cross validation, 5 folds:\n",
            "\n",
            "Mean Accuracy:  97.35 %\n",
            "STD:  0.0018\n",
            "Interval with 95% of confidence [96.98, 97.71]\n"
          ]
        }
      ]
    },
    {
      "cell_type": "code",
      "source": [
        "from sklearn.metrics import confusion_matrix, ConfusionMatrixDisplay\n",
        "\n",
        "HGB_opt.fit(X_train,y_train)\n",
        "HGB_opt_pred = HGB_opt.predict(X_test)\n",
        "HGB_opt_pred2 = HGB_opt.predict(X_val)\n",
        "\n",
        "cm = confusion_matrix(y_test, HGB_opt_pred, labels=HGB_opt.classes_)\n",
        "cm2 = confusion_matrix(y_val, HGB_opt_pred2, labels=HGB_opt.classes_)\n",
        "\n",
        "\n",
        "disp = ConfusionMatrixDisplay(confusion_matrix=cm,\n",
        "                               display_labels=HGB_opt.classes_)\n",
        "disp2 = ConfusionMatrixDisplay(confusion_matrix=cm2,\n",
        "                               display_labels=HGB_opt.classes_)\n",
        "disp.plot()\n",
        "disp2.plot()\n",
        "plt.show()"
      ],
      "metadata": {
        "colab": {
          "base_uri": "https://localhost:8080/",
          "height": 541
        },
        "id": "3Q9bb4JFNnDL",
        "outputId": "a8edacc3-e082-4ea3-9b98-ff5393ce0b98"
      },
      "execution_count": 54,
      "outputs": [
        {
          "output_type": "display_data",
          "data": {
            "text/plain": [
              "<Figure size 432x288 with 2 Axes>"
            ],
            "image/png": "[encoded data removed]"
          },
          "metadata": {
            "needs_background": "light"
          }
        },
        {
          "output_type": "display_data",
          "data": {
            "text/plain": [
              "<Figure size 432x288 with 2 Axes>"
            ],
            "image/png": "[encoded data removed]"
          },
          "metadata": {
            "needs_background": "light"
          }
        }
      ]
    },
    {
      "cell_type": "markdown",
      "source": [
        "## Bagging"
      ],
      "metadata": {
        "id": "vEf_mPa3OLJ1"
      }
    },
    {
      "cell_type": "code",
      "source": [
        "from scipy.stats import randint\n",
        "from sklearn.model_selection import RandomizedSearchCV, KFold, GridSearchCV\n",
        "from sklearn.ensemble import BaggingClassifier\n",
        "import time\n",
        "\n",
        "SEED = 42\n",
        "np.random.seed(SEED)\n",
        "\n",
        "parameter_space = {\n",
        "    # 'max_samples' : [1, 2, 3, 4, 5],\n",
        "    'max_features' : [1, 2,  4, 6, 8, 10, 12], # randint(32,128),\n",
        "    'bootstrap': [True, False],\n",
        "    'n_estimators': [10, 20,  50 , 100, 200, 400, 600, 800, 1000] #, 1200, 1400, 1600, 1800, 2000],\n",
        "}\n",
        "\n",
        "\n",
        "tic = time.time()\n",
        "\n",
        "busca = RandomizedSearchCV(BaggingClassifier(),\n",
        "                     parameter_space,\n",
        "                     n_iter = 100,\n",
        "                     random_state=SEED,\n",
        "                     cv = KFold(n_splits=5, shuffle=True),\n",
        "                     )\n",
        "\n",
        "busca.fit(X_train_test_norm, y_train_test)\n",
        "\n",
        "tac = time.time()\n",
        "elapsed_time = tac-tic \n",
        "print('Time: %.2f seconds' % elapsed_time)\n",
        "\n",
        "results = pd.DataFrame(busca.cv_results_)\n",
        "results.head()"
      ],
      "metadata": {
        "id": "gjoURZWmONa1",
        "colab": {
          "base_uri": "https://localhost:8080/",
          "height": 548
        },
        "outputId": "7c8c1a48-e50c-496d-e05e-472a7db190b3"
      },
      "execution_count": 17,
      "outputs": [
        {
          "output_type": "stream",
          "name": "stdout",
          "text": [
            "Time: 5522.64 seconds\n"
          ]
        },
        {
          "output_type": "execute_result",
          "data": {
            "text/plain": [
              "   mean_fit_time  std_fit_time  mean_score_time  std_score_time  \\\n",
              "0       0.162831      0.039955         0.013171        0.001650   \n",
              "1       0.330908      0.045794         0.021887        0.001149   \n",
              "2      64.477143      1.347727         1.553286        0.014265   \n",
              "3       1.153548      0.109844         0.093614        0.004636   \n",
              "4       6.920306      0.260932         0.266976        0.005156   \n",
              "\n",
              "  param_n_estimators param_max_features param_bootstrap  \\\n",
              "0                 20                  2           False   \n",
              "1                 20                  4            True   \n",
              "2               1000                 10           False   \n",
              "3                200                  1           False   \n",
              "4                200                  6           False   \n",
              "\n",
              "                                              params  split0_test_score  \\\n",
              "0  {'n_estimators': 20, 'max_features': 2, 'boots...           0.706587   \n",
              "1  {'n_estimators': 20, 'max_features': 4, 'boots...           0.931486   \n",
              "2  {'n_estimators': 1000, 'max_features': 10, 'bo...           0.983428   \n",
              "3  {'n_estimators': 200, 'max_features': 1, 'boot...           0.842083   \n",
              "4  {'n_estimators': 200, 'max_features': 6, 'boot...           0.970756   \n",
              "\n",
              "   split1_test_score  split2_test_score  split3_test_score  split4_test_score  \\\n",
              "0           0.810611           0.805598           0.837488           0.804318   \n",
              "1           0.944994           0.923827           0.897786           0.924234   \n",
              "2           0.987328           0.985239           0.985100           0.985655   \n",
              "3           0.842223           0.848211           0.843754           0.825070   \n",
              "4           0.973681           0.972288           0.971731           0.973816   \n",
              "\n",
              "   mean_test_score  std_test_score  rank_test_score  \n",
              "0         0.792920        0.044818               97  \n",
              "1         0.924465        0.015382               67  \n",
              "2         0.985350        0.001247                7  \n",
              "3         0.840268        0.007916               94  \n",
              "4         0.972454        0.001166               41  "
            ],
            "text/html": [
              "\n",
              "  <div id=\"df-cce4d468-7e7f-4f9f-8789-4182e00bb32c\">\n",
              "    <div class=\"colab-df-container\">\n",
              "      <div>\n",
              "<style scoped>\n",
              "    .dataframe tbody tr th:only-of-type {\n",
              "        vertical-align: middle;\n",
              "    }\n",
              "\n",
              "    .dataframe tbody tr th {\n",
              "        vertical-align: top;\n",
              "    }\n",
              "\n",
              "    .dataframe thead th {\n",
              "        text-align: right;\n",
              "    }\n",
              "</style>\n",
              "<table border=\"1\" class=\"dataframe\">\n",
              "  <thead>\n",
              "    <tr style=\"text-align: right;\">\n",
              "      <th></th>\n",
              "      <th>mean_fit_time</th>\n",
              "      <th>std_fit_time</th>\n",
              "      <th>mean_score_time</th>\n",
              "      <th>std_score_time</th>\n",
              "      <th>param_n_estimators</th>\n",
              "      <th>param_max_features</th>\n",
              "      <th>param_bootstrap</th>\n",
              "      <th>params</th>\n",
              "      <th>split0_test_score</th>\n",
              "      <th>split1_test_score</th>\n",
              "      <th>split2_test_score</th>\n",
              "      <th>split3_test_score</th>\n",
              "      <th>split4_test_score</th>\n",
              "      <th>mean_test_score</th>\n",
              "      <th>std_test_score</th>\n",
              "      <th>rank_test_score</th>\n",
              "    </tr>\n",
              "  </thead>\n",
              "  <tbody>\n",
              "    <tr>\n",
              "      <th>0</th>\n",
              "      <td>0.162831</td>\n",
              "      <td>0.039955</td>\n",
              "      <td>0.013171</td>\n",
              "      <td>0.001650</td>\n",
              "      <td>20</td>\n",
              "      <td>2</td>\n",
              "      <td>False</td>\n",
              "      <td>{'n_estimators': 20, 'max_features': 2, 'boots...</td>\n",
              "      <td>0.706587</td>\n",
              "      <td>0.810611</td>\n",
              "      <td>0.805598</td>\n",
              "      <td>0.837488</td>\n",
              "      <td>0.804318</td>\n",
              "      <td>0.792920</td>\n",
              "      <td>0.044818</td>\n",
              "      <td>97</td>\n",
              "    </tr>\n",
              "    <tr>\n",
              "      <th>1</th>\n",
              "      <td>0.330908</td>\n",
              "      <td>0.045794</td>\n",
              "      <td>0.021887</td>\n",
              "      <td>0.001149</td>\n",
              "      <td>20</td>\n",
              "      <td>4</td>\n",
              "      <td>True</td>\n",
              "      <td>{'n_estimators': 20, 'max_features': 4, 'boots...</td>\n",
              "      <td>0.931486</td>\n",
              "      <td>0.944994</td>\n",
              "      <td>0.923827</td>\n",
              "      <td>0.897786</td>\n",
              "      <td>0.924234</td>\n",
              "      <td>0.924465</td>\n",
              "      <td>0.015382</td>\n",
              "      <td>67</td>\n",
              "    </tr>\n",
              "    <tr>\n",
              "      <th>2</th>\n",
              "      <td>64.477143</td>\n",
              "      <td>1.347727</td>\n",
              "      <td>1.553286</td>\n",
              "      <td>0.014265</td>\n",
              "      <td>1000</td>\n",
              "      <td>10</td>\n",
              "      <td>False</td>\n",
              "      <td>{'n_estimators': 1000, 'max_features': 10, 'bo...</td>\n",
              "      <td>0.983428</td>\n",
              "      <td>0.987328</td>\n",
              "      <td>0.985239</td>\n",
              "      <td>0.985100</td>\n",
              "      <td>0.985655</td>\n",
              "      <td>0.985350</td>\n",
              "      <td>0.001247</td>\n",
              "      <td>7</td>\n",
              "    </tr>\n",
              "    <tr>\n",
              "      <th>3</th>\n",
              "      <td>1.153548</td>\n",
              "      <td>0.109844</td>\n",
              "      <td>0.093614</td>\n",
              "      <td>0.004636</td>\n",
              "      <td>200</td>\n",
              "      <td>1</td>\n",
              "      <td>False</td>\n",
              "      <td>{'n_estimators': 200, 'max_features': 1, 'boot...</td>\n",
              "      <td>0.842083</td>\n",
              "      <td>0.842223</td>\n",
              "      <td>0.848211</td>\n",
              "      <td>0.843754</td>\n",
              "      <td>0.825070</td>\n",
              "      <td>0.840268</td>\n",
              "      <td>0.007916</td>\n",
              "      <td>94</td>\n",
              "    </tr>\n",
              "    <tr>\n",
              "      <th>4</th>\n",
              "      <td>6.920306</td>\n",
              "      <td>0.260932</td>\n",
              "      <td>0.266976</td>\n",
              "      <td>0.005156</td>\n",
              "      <td>200</td>\n",
              "      <td>6</td>\n",
              "      <td>False</td>\n",
              "      <td>{'n_estimators': 200, 'max_features': 6, 'boot...</td>\n",
              "      <td>0.970756</td>\n",
              "      <td>0.973681</td>\n",
              "      <td>0.972288</td>\n",
              "      <td>0.971731</td>\n",
              "      <td>0.973816</td>\n",
              "      <td>0.972454</td>\n",
              "      <td>0.001166</td>\n",
              "      <td>41</td>\n",
              "    </tr>\n",
              "  </tbody>\n",
              "</table>\n",
              "</div>\n",
              "      <button class=\"colab-df-convert\" onclick=\"convertToInteractive('df-cce4d468-7e7f-4f9f-8789-4182e00bb32c')\"\n",
              "              title=\"Convert this dataframe to an interactive table.\"\n",
              "              style=\"display:none;\">\n",
              "        \n",
              "  <svg xmlns=\"http://www.w3.org/2000/svg\" height=\"24px\"viewBox=\"0 0 24 24\"\n",
              "       width=\"24px\">\n",
              "    <path d=\"M0 0h24v24H0V0z\" fill=\"none\"/>\n",
              "    <path d=\"M18.56 5.44l.94 2.06.94-2.06 2.06-.94-2.06-.94-.94-2.06-.94 2.06-2.06.94zm-11 1L8.5 8.5l.94-2.06 2.06-.94-2.06-.94L8.5 2.5l-.94 2.06-2.06.94zm10 10l.94 2.06.94-2.06 2.06-.94-2.06-.94-.94-2.06-.94 2.06-2.06.94z\"/><path d=\"M17.41 7.96l-1.37-1.37c-.4-.4-.92-.59-1.43-.59-.52 0-1.04.2-1.43.59L10.3 9.45l-7.72 7.72c-.78.78-.78 2.05 0 2.83L4 21.41c.39.39.9.59 1.41.59.51 0 1.02-.2 1.41-.59l7.78-7.78 2.81-2.81c.8-.78.8-2.07 0-2.86zM5.41 20L4 18.59l7.72-7.72 1.47 1.35L5.41 20z\"/>\n",
              "  </svg>\n",
              "      </button>\n",
              "      \n",
              "  <style>\n",
              "    .colab-df-container {\n",
              "      display:flex;\n",
              "      flex-wrap:wrap;\n",
              "      gap: 12px;\n",
              "    }\n",
              "\n",
              "    .colab-df-convert {\n",
              "      background-color: #E8F0FE;\n",
              "      border: none;\n",
              "      border-radius: 50%;\n",
              "      cursor: pointer;\n",
              "      display: none;\n",
              "      fill: #1967D2;\n",
              "      height: 32px;\n",
              "      padding: 0 0 0 0;\n",
              "      width: 32px;\n",
              "    }\n",
              "\n",
              "    .colab-df-convert:hover {\n",
              "      background-color: #E2EBFA;\n",
              "      box-shadow: 0px 1px 2px rgba(60, 64, 67, 0.3), 0px 1px 3px 1px rgba(60, 64, 67, 0.15);\n",
              "      fill: #174EA6;\n",
              "    }\n",
              "\n",
              "    [theme=dark] .colab-df-convert {\n",
              "      background-color: #3B4455;\n",
              "      fill: #D2E3FC;\n",
              "    }\n",
              "\n",
              "    [theme=dark] .colab-df-convert:hover {\n",
              "      background-color: #434B5C;\n",
              "      box-shadow: 0px 1px 3px 1px rgba(0, 0, 0, 0.15);\n",
              "      filter: drop-shadow(0px 1px 2px rgba(0, 0, 0, 0.3));\n",
              "      fill: #FFFFFF;\n",
              "    }\n",
              "  </style>\n",
              "\n",
              "      <script>\n",
              "        const buttonEl =\n",
              "          document.querySelector('#df-cce4d468-7e7f-4f9f-8789-4182e00bb32c button.colab-df-convert');\n",
              "        buttonEl.style.display =\n",
              "          google.colab.kernel.accessAllowed ? 'block' : 'none';\n",
              "\n",
              "        async function convertToInteractive(key) {\n",
              "          const element = document.querySelector('#df-cce4d468-7e7f-4f9f-8789-4182e00bb32c');\n",
              "          const dataTable =\n",
              "            await google.colab.kernel.invokeFunction('convertToInteractive',\n",
              "                                                     [key], {});\n",
              "          if (!dataTable) return;\n",
              "\n",
              "          const docLinkHtml = 'Like what you see? Visit the ' +\n",
              "            '<a target=\"_blank\" href=https://colab.research.google.com/notebooks/data_table.ipynb>data table notebook</a>'\n",
              "            + ' to learn more about interactive tables.';\n",
              "          element.innerHTML = '';\n",
              "          dataTable['output_type'] = 'display_data';\n",
              "          await google.colab.output.renderOutput(dataTable, element);\n",
              "          const docLink = document.createElement('div');\n",
              "          docLink.innerHTML = docLinkHtml;\n",
              "          element.appendChild(docLink);\n",
              "        }\n",
              "      </script>\n",
              "    </div>\n",
              "  </div>\n",
              "  "
            ]
          },
          "metadata": {},
          "execution_count": 17
        }
      ]
    },
    {
      "cell_type": "code",
      "source": [
        "busca.best_params_"
      ],
      "metadata": {
        "colab": {
          "base_uri": "https://localhost:8080/"
        },
        "id": "WfZwSDgnnEBU",
        "outputId": "16fc4699-6da6-4eb1-a3da-a06bad17b2d2"
      },
      "execution_count": 18,
      "outputs": [
        {
          "output_type": "execute_result",
          "data": {
            "text/plain": [
              "{'n_estimators': 400, 'max_features': 12, 'bootstrap': False}"
            ]
          },
          "metadata": {},
          "execution_count": 18
        }
      ]
    },
    {
      "cell_type": "code",
      "source": [
        "resultados_ordenados_pela_media = results.sort_values(\"mean_test_score\", ascending=False)\n",
        "for indice, linha in resultados_ordenados_pela_media[:5].iterrows():\n",
        "  print(\"%.3f +-(%.3f) %s\" % (linha.mean_test_score, linha.std_test_score*2, linha.params))"
      ],
      "metadata": {
        "colab": {
          "base_uri": "https://localhost:8080/"
        },
        "id": "pHILVFiPnErl",
        "outputId": "d09e7c55-c91d-4db1-d90e-68fe3207508e"
      },
      "execution_count": 19,
      "outputs": [
        {
          "output_type": "stream",
          "name": "stdout",
          "text": [
            "0.986 +-(0.002) {'n_estimators': 400, 'max_features': 12, 'bootstrap': False}\n",
            "0.986 +-(0.001) {'n_estimators': 800, 'max_features': 12, 'bootstrap': False}\n",
            "0.986 +-(0.002) {'n_estimators': 200, 'max_features': 12, 'bootstrap': False}\n",
            "0.986 +-(0.002) {'n_estimators': 600, 'max_features': 12, 'bootstrap': False}\n",
            "0.986 +-(0.002) {'n_estimators': 100, 'max_features': 12, 'bootstrap': False}\n"
          ]
        }
      ]
    },
    {
      "cell_type": "code",
      "source": [
        "from sklearn.ensemble import BaggingClassifier\n",
        "from sklearn.model_selection import cross_validate, KFold\n",
        "\n",
        "SEED = 42\n",
        "np.random.seed(SEED)\n",
        "\n",
        "bag_opt = BaggingClassifier(n_estimators=400,\n",
        "                          max_features=12,\n",
        "                          bootstrap=False)\n",
        "\n",
        "cv=KFold(n_splits=5, shuffle=True) # usa shuffle TRUE pra embaralhar os dados antes de dividir em pedaços qdo não for time series\n",
        "\n",
        "\n",
        "results = cross_validate(bag_opt, X_train_test_norm, y_train_test, cv = cv, return_train_score=False) # CV número de partes em que vai dividir\n",
        "\n",
        "mean = results['test_score'].mean()\n",
        "std = results['test_score'].std()\n",
        "\n",
        "# media +- 2*std =  95% de confiança\n",
        "\n",
        "print(\"Accuracy with cross validation, 5 folds:\\n\")\n",
        "print('Mean Accuracy: ', np.round((mean)*100,2),'%')\n",
        "print('STD: ', np.round(std,4))\n",
        "print('Interval with 95%% of confidence [%.2f, %.2f]' % ((mean - 2 *std) * 100, (mean + 2 * std) * 100))"
      ],
      "metadata": {
        "colab": {
          "base_uri": "https://localhost:8080/"
        },
        "id": "HsLTqdF6Xpd1",
        "outputId": "3bc58b6c-1f65-421c-ac37-f56975c6c3f6"
      },
      "execution_count": 43,
      "outputs": [
        {
          "output_type": "stream",
          "name": "stdout",
          "text": [
            "Accuracy with cross validation, 5 folds:\n",
            "\n",
            "Mean Accuracy:  98.69 %\n",
            "STD:  0.0012\n",
            "Interval with 95% of confidence [98.44, 98.94]\n"
          ]
        }
      ]
    },
    {
      "cell_type": "code",
      "source": [
        "from sklearn.metrics import confusion_matrix, ConfusionMatrixDisplay\n",
        "\n",
        "bag_opt.fit(X_train,y_train)\n",
        "bag_opt_pred = bag_opt.predict(X_test)\n",
        "bag_opt_pred2 = bag_opt.predict(X_val)\n",
        "\n",
        "cm = confusion_matrix(y_test, bag_opt_pred, labels=bag_opt.classes_)\n",
        "cm2 = confusion_matrix(y_val, bag_opt_pred2, labels=bag_opt.classes_)\n",
        "\n",
        "\n",
        "disp = ConfusionMatrixDisplay(confusion_matrix=cm,\n",
        "                               display_labels=bag_opt.classes_)\n",
        "disp2 = ConfusionMatrixDisplay(confusion_matrix=cm2,\n",
        "                               display_labels=bag_opt.classes_)\n",
        "disp.plot()\n",
        "disp2.plot()\n",
        "plt.show()"
      ],
      "metadata": {
        "colab": {
          "base_uri": "https://localhost:8080/",
          "height": 541
        },
        "id": "XdjhfwCkM7W-",
        "outputId": "9fe04907-3982-4da5-ae14-74643bdc04b0"
      },
      "execution_count": 44,
      "outputs": [
        {
          "output_type": "display_data",
          "data": {
            "text/plain": [
              "<Figure size 432x288 with 2 Axes>"
            ],
            "image/png": "[encoded data removed]"
          },
          "metadata": {
            "needs_background": "light"
          }
        },
        {
          "output_type": "display_data",
          "data": {
            "text/plain": [
              "<Figure size 432x288 with 2 Axes>"
            ],
            "image/png": "[encoded data removed]"
          },
          "metadata": {
            "needs_background": "light"
          }
        }
      ]
    },
    {
      "cell_type": "code",
      "source": [
        "from sklearn.metrics import classification_report\n",
        "\n",
        "print(classification_report(y_test,bag_opt_pred))"
      ],
      "metadata": {
        "colab": {
          "base_uri": "https://localhost:8080/"
        },
        "id": "lf2HEtgvOkxk",
        "outputId": "f2ea7438-2f81-4ecb-c0a3-36c89d3e0141"
      },
      "execution_count": 49,
      "outputs": [
        {
          "output_type": "stream",
          "name": "stdout",
          "text": [
            "              precision    recall  f1-score   support\n",
            "\n",
            "         0.0       0.98      0.99      0.98      5386\n",
            "         1.0       0.99      0.98      0.98      5386\n",
            "\n",
            "    accuracy                           0.98     10772\n",
            "   macro avg       0.98      0.98      0.98     10772\n",
            "weighted avg       0.98      0.98      0.98     10772\n",
            "\n"
          ]
        }
      ]
    },
    {
      "cell_type": "markdown",
      "source": [
        "## Voting (RF + HGB + Bagging) - Optimized"
      ],
      "metadata": {
        "id": "FMRSm47MO-Wz"
      }
    },
    {
      "cell_type": "code",
      "source": [
        "from sklearn.ensemble import HistGradientBoostingClassifier, VotingClassifier, RandomForestClassifier, BaggingClassifier\n",
        "from sklearn.model_selection import cross_validate, KFold\n",
        "\n",
        "SEED = 42\n",
        "np.random.seed(SEED)\n",
        "# HGB_vot = HistGradientBoostingClassifier()\n",
        "# rf_vot = RandomForestClassifier()\n",
        "# bag_vot = BaggingClassifier()\n",
        "\n",
        "voting_opt = VotingClassifier(estimators=[('rf', RForest_opt), ('hgb', HGB_opt), ('bag',bag_opt)], \n",
        "                          voting='soft')\n",
        "\n",
        "cv=KFold(n_splits=5, shuffle=True) # usa shuffle TRUE pra embaralhar os dados antes de dividir em pedaços qdo não for time series\n",
        "\n",
        "\n",
        "results = cross_validate(voting_opt, X_train_test_norm, y_train_test, cv = cv, return_train_score=False) # CV número de partes em que vai dividir\n",
        "\n",
        "mean = results['test_score'].mean()\n",
        "std = results['test_score'].std()\n",
        "\n",
        "# media +- 2*std =  95% de confiança\n",
        "\n",
        "print(\"Accuracy with cross validation, 5 folds:\\n\")\n",
        "print('Mean Accuracy: ', np.round((mean)*100,2),'%')\n",
        "print('STD: ', np.round(std,4))\n",
        "print('Interval with 95%% of confidence [%.2f, %.2f]' % ((mean - 2 *std) * 100, (mean + 2 * std) * 100))"
      ],
      "metadata": {
        "colab": {
          "base_uri": "https://localhost:8080/"
        },
        "id": "HhFh78lqPD95",
        "outputId": "028ed12f-8097-423c-a447-5db40e5fd584"
      },
      "execution_count": 59,
      "outputs": [
        {
          "output_type": "stream",
          "name": "stdout",
          "text": [
            "Accuracy with cross validation, 5 folds:\n",
            "\n",
            "Mean Accuracy:  98.72 %\n",
            "STD:  0.0018\n",
            "Interval with 95% of confidence [98.35, 99.08]\n"
          ]
        }
      ]
    },
    {
      "cell_type": "code",
      "source": [
        "from sklearn.metrics import confusion_matrix, ConfusionMatrixDisplay\n",
        "\n",
        "voting_opt.fit(X_train,y_train)\n",
        "voting_opt_pred = voting_opt.predict(X_test)\n",
        "voting_opt_pred2 = voting_opt.predict(X_val)\n",
        "\n",
        "cm = confusion_matrix(y_test, voting_opt_pred, labels=voting_opt.classes_)\n",
        "cm2 = confusion_matrix(y_val, voting_opt_pred2, labels=voting_opt.classes_)\n",
        "\n",
        "\n",
        "disp = ConfusionMatrixDisplay(confusion_matrix=cm,\n",
        "                               display_labels=voting_opt.classes_)\n",
        "disp2 = ConfusionMatrixDisplay(confusion_matrix=cm2,\n",
        "                               display_labels=voting_opt.classes_)\n",
        "disp.plot()\n",
        "disp2.plot()\n",
        "plt.show()"
      ],
      "metadata": {
        "colab": {
          "base_uri": "https://localhost:8080/",
          "height": 541
        },
        "id": "9BlYlmBeSJE6",
        "outputId": "7b191769-c85c-485a-d505-13ae30e1080c"
      },
      "execution_count": 60,
      "outputs": [
        {
          "output_type": "display_data",
          "data": {
            "text/plain": [
              "<Figure size 432x288 with 2 Axes>"
            ],
            "image/png": "[encoded data removed]"
          },
          "metadata": {
            "needs_background": "light"
          }
        },
        {
          "output_type": "display_data",
          "data": {
            "text/plain": [
              "<Figure size 432x288 with 2 Axes>"
            ],
            "image/png": "[encoded data removed]"
          },
          "metadata": {
            "needs_background": "light"
          }
        }
      ]
    },
    {
      "cell_type": "markdown",
      "source": [
        "# Evaluating Voting Approach - Before and After Optmization"
      ],
      "metadata": {
        "id": "66GwWhrnVMFQ"
      }
    },
    {
      "cell_type": "markdown",
      "source": [
        "## Confusion Matrix"
      ],
      "metadata": {
        "id": "JS-YKUEVVefj"
      }
    },
    {
      "cell_type": "code",
      "source": [
        "from sklearn.metrics import confusion_matrix, ConfusionMatrixDisplay\n",
        "\n",
        "fig = plt.figure(figsize=(15,8))\n",
        "ax = fig.add_subplot(1,2,1)\n",
        "ax.set_title('Voting', fontsize=16)\n",
        "ax2 = fig.add_subplot(1,2,2)\n",
        "ax2.set_title('Voting Optimized', fontsize=16)\n",
        "\n",
        "\n",
        "voting_pred_val = voting.predict(X_val)\n",
        "voting_opt_pred_val = voting_opt.predict(X_val)\n",
        "\n",
        "cm = confusion_matrix(y_val, voting_pred_val, labels=np.array([0,1]))\n",
        "disp = ConfusionMatrixDisplay(confusion_matrix=cm,\n",
        "                               display_labels=np.array([0,1]))\n",
        "\n",
        "cm2 = confusion_matrix(y_val, voting_opt_pred_val, labels=np.array([0,1]))\n",
        "disp2 = ConfusionMatrixDisplay(confusion_matrix=cm2,\n",
        "                               display_labels=np.array([0,1]))\n",
        "\n",
        "\n",
        "disp.plot(ax=ax)\n",
        "disp2.plot(ax=ax2)\n",
        "plt.show()"
      ],
      "metadata": {
        "colab": {
          "base_uri": "https://localhost:8080/",
          "height": 466
        },
        "id": "UUCVJHScVI5R",
        "outputId": "55d0191a-1155-495b-d2a9-ff78e2964b77"
      },
      "execution_count": 66,
      "outputs": [
        {
          "output_type": "display_data",
          "data": {
            "text/plain": [
              "<Figure size 1080x576 with 4 Axes>"
            ],
            "image/png": "[encoded data removed]"
          },
          "metadata": {
            "needs_background": "light"
          }
        }
      ]
    },
    {
      "cell_type": "markdown",
      "source": [
        "## Classification Metrics"
      ],
      "metadata": {
        "id": "M4PClxeRV9a8"
      }
    },
    {
      "cell_type": "code",
      "source": [
        "def get_classification_report(y_test, y_pred):\n",
        "    report = classification_report(y_test, y_pred, output_dict=True)\n",
        "    df_classification_report = pd.DataFrame(report).T\n",
        "    # df_classification_report = df_classification_report.sort_values(by=['f1-score'], ascending=False)\n",
        "    return df_classification_report\n",
        "\n",
        "def insert_value_df2(df, metric, method1, method2):\n",
        "  dic = {'Metric': metric, \n",
        "         'Voting':method1, \n",
        "         'Voting Optimized':method2}\n",
        "  df = df.append(dic, ignore_index=True)\n",
        "  return df\n",
        "\n",
        "voting_metrics = get_classification_report(y_val,voting_pred_val)\n",
        "voting_opt_metrics = get_classification_report(y_val,voting_opt_pred_val)\n",
        "\n",
        "metrics2 = pd.DataFrame(columns=['Metric', 'Voting', 'Voting Optimized'])\n",
        "metrics2 = insert_value_df2(metrics2,'Accuracy',\n",
        "                          voting_metrics.loc['accuracy']['f1-score'],\n",
        "                          voting_opt_metrics.loc['accuracy']['f1-score'])\n",
        "\n",
        "metrics2 = insert_value_df2(metrics2,'Precision',\n",
        "                          voting_metrics.loc['macro avg']['precision'],\n",
        "                          voting_opt_metrics.loc['macro avg']['precision'])\n",
        "\n",
        "metrics2 = insert_value_df2(metrics2,'Recall',\n",
        "                          voting_metrics.loc['macro avg']['recall'],\n",
        "                          voting_opt_metrics.loc['macro avg']['recall'])\n",
        "\n",
        "metrics2 = insert_value_df2(metrics2,'F1-score',\n",
        "                          voting_metrics.loc['macro avg']['f1-score'],\n",
        "                          voting_opt_metrics.loc['macro avg']['f1-score'])\n",
        "\n",
        "metrics2 = metrics2.set_index('Metric')\n",
        "metrics2 = metrics2.T\n",
        "\n",
        "plt.figure(figsize=(20,8))\n",
        "\n",
        "plt.subplot(2,2,1)\n",
        "plt.xlim(0.7,1)\n",
        "sns.barplot(data = metrics2, y= metrics2.index, x='Accuracy')\n",
        "plt.title('Accuracy', fontsize=16)\n",
        "plt.xlabel('')\n",
        "\n",
        "plt.subplot(2,2,2)\n",
        "plt.xlim(0.7,1)\n",
        "sns.barplot(data = metrics2, y= metrics2.index, x='Precision')\n",
        "plt.title('Precision', fontsize=16)\n",
        "plt.xlabel('')\n",
        "\n",
        "plt.subplot(2,2,3)\n",
        "plt.xlim(0.7,1)\n",
        "sns.barplot(data = metrics2, y= metrics2.index, x='Recall')\n",
        "plt.title('Recall', fontsize=16)\n",
        "plt.xlabel('')\n",
        "\n",
        "plt.subplot(2,2,4)\n",
        "plt.xlim(0.7,1)\n",
        "sns.barplot(data = metrics2, y= metrics2.index, x='F1-score')\n",
        "plt.title('F1-Score', fontsize=16)\n",
        "plt.xlabel('')\n",
        "\n",
        "# plt.show()\n",
        "\n",
        "plt.savefig('voting_compare.png')\n",
        "\n",
        "\n"
      ],
      "metadata": {
        "colab": {
          "base_uri": "https://localhost:8080/",
          "height": 501
        },
        "id": "NXIijxlDV_kJ",
        "outputId": "8c59ce88-05ea-4bac-dd46-8037b788e496"
      },
      "execution_count": 72,
      "outputs": [
        {
          "output_type": "display_data",
          "data": {
            "text/plain": [
              "<Figure size 1440x576 with 4 Axes>"
            ],
            "image/png": "[encoded data removed]"
          },
          "metadata": {
            "needs_background": "light"
          }
        }
      ]
    },
    {
      "cell_type": "markdown",
      "source": [
        "## ROC Curve\n"
      ],
      "metadata": {
        "id": "AAqiCMmLXfgG"
      }
    },
    {
      "cell_type": "code",
      "source": [
        "from sklearn.metrics import roc_curve, roc_auc_score\n",
        "\n",
        "voting_pred = voting.predict_proba(X_val)[:,1]\n",
        "voting_opt_pred = voting_opt.predict_proba(X_val)[:,1]\n",
        "\n",
        "\n",
        "# tfp - taxa de falsos positivos\n",
        "# tvp - taxa de verdadeiros positivos\n",
        "\n",
        "\n",
        "print('ROC AUC score:')\n",
        "\n",
        "voting_tfp, voting_tvp, limite = roc_curve(y_val, voting_pred)\n",
        "print('Voting (RF+HGB+Bag) =\\t', roc_auc_score(y_val, voting_pred))\n",
        "\n",
        "voting_opt_tfp, voting_opt_tvp, limite = roc_curve(y_val, voting_opt_pred)\n",
        "print('Voting OPT (RF+HGB+Bag) =\\t', roc_auc_score(y_val, voting_opt_pred))\n",
        "\n",
        "plt.subplots(1, figsize=(15,5))\n",
        "plt.title('ROC Curve')\n",
        "plt.plot(voting_tfp, voting_tvp)\n",
        "plt.plot(voting_opt_tfp, voting_opt_tvp)\n",
        "plt.legend([f'Voting (RF+HGB+Bag) - {np.round(roc_auc_score(y_val, voting_pred),4)}',\n",
        "            f'Voting OPT (RF+HGB+Bag) - {np.round(roc_auc_score(y_val, voting_opt_pred),4)}'])\n",
        "plt.xlabel('Specificity')\n",
        "plt.ylabel('Sensibility')\n",
        "plt.plot([0, 1], ls=\"--\", c = 'red') #plotando linha guia pontilhada vermelha\n",
        "plt.plot([0, 0], [1, 0], ls=\"--\", c = 'green'), plt.plot([1, 1], ls=\"--\", c = 'green') #plotando linha guia pontilhada verde\n",
        "plt.xlim(-0.01,0.3)\n",
        "plt.ylim(0.4,1.01)\n",
        "\n",
        "plt.savefig('roc_voting_compare.png')"
      ],
      "metadata": {
        "colab": {
          "base_uri": "https://localhost:8080/",
          "height": 402
        },
        "id": "MNmjteO9XhT6",
        "outputId": "456ee04c-1442-4299-9b81-20a0d03687fc"
      },
      "execution_count": 76,
      "outputs": [
        {
          "output_type": "stream",
          "name": "stdout",
          "text": [
            "ROC AUC score:\n",
            "Voting (RF+HGB+Bag) =\t 0.939350716560438\n",
            "Voting OPT (RF+HGB+Bag) =\t 0.9438608011094898\n"
          ]
        },
        {
          "output_type": "display_data",
          "data": {
            "text/plain": [
              "<Figure size 1080x360 with 1 Axes>"
            ],
            "image/png": "[encoded data removed]"
          },
          "metadata": {
            "needs_background": "light"
          }
        }
      ]
    },
    {
      "cell_type": "markdown",
      "source": [
        "# Saving Models"
      ],
      "metadata": {
        "id": "mwbV_MlPgB46"
      }
    },
    {
      "cell_type": "code",
      "source": [
        "def save_model(model,name):\n",
        "    import pickle\n",
        "    arquivo = name + '.pkl'\n",
        "    with open(arquivo,'wb') as file:\n",
        "        pickle.dump(model,file)\n",
        "    print('Model sklearn saved: ',name)\n",
        "\n",
        "def load_model(name):\n",
        "    import pickle\n",
        "    arquivo = name + '.pkl'\n",
        "    with open(arquivo,'rb') as file:\n",
        "        model = pickle.load(file)\n",
        "    print('Model sklearn loaded')\n",
        "    return model\n",
        "\n",
        "# Saving Random Forest optmz\n",
        "\n",
        "save_model(RForest_opt,'RandomForest_Opt')\n",
        "\n",
        "# Saving HGB optmz\n",
        "\n",
        "save_model(HGB_opt,'HGB_opt')\n",
        "\n",
        "# Saving Bagging optmz\n",
        "\n",
        "save_model(bag_opt,'Bagging_Opt')\n",
        "\n",
        "# Saving Voting (RF + HGB + Bagging) optmz\n",
        "\n",
        "save_model(voting_opt,'Voting_Opt')\n"
      ],
      "metadata": {
        "colab": {
          "base_uri": "https://localhost:8080/"
        },
        "id": "0ih1H96LgHWi",
        "outputId": "168fb60a-3519-4eb6-d880-f8389bcb8d0c"
      },
      "execution_count": 80,
      "outputs": [
        {
          "output_type": "stream",
          "name": "stdout",
          "text": [
            "Model sklearn saved:  RandomForest_Opt\n",
            "Model sklearn saved:  HGB_opt\n",
            "Model sklearn saved:  Bagging_Opt\n",
            "Model sklearn saved:  Voting_Opt\n"
          ]
        }
      ]
    }
  ]
}